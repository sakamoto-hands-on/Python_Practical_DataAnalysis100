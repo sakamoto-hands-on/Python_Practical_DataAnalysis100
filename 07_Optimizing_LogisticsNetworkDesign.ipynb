{
  "nbformat": 4,
  "nbformat_minor": 0,
  "metadata": {
    "colab": {
      "name": "07_Optimizing_LogisticsNetworkDesign.ipynb",
      "provenance": [],
      "collapsed_sections": [],
      "toc_visible": true,
      "authorship_tag": "ABX9TyMqMKjrdE+YlEAKs3r48MKC",
      "include_colab_link": true
    },
    "kernelspec": {
      "name": "python3",
      "display_name": "Python 3"
    }
  },
  "cells": [
    {
      "cell_type": "markdown",
      "metadata": {
        "id": "view-in-github",
        "colab_type": "text"
      },
      "source": [
        "<a href=\"https://colab.research.google.com/github/sakamoto-hands-on/Python_Practical_DataAnalysis100/blob/master/07_Optimizing_LogisticsNetworkDesign.ipynb\" target=\"_parent\"><img src=\"https://colab.research.google.com/assets/colab-badge.svg\" alt=\"Open In Colab\"/></a>"
      ]
    },
    {
      "cell_type": "markdown",
      "metadata": {
        "id": "v7-uqqUgU1rZ",
        "colab_type": "text"
      },
      "source": [
        "#製造から物流までの全体の流れとして、コスト改善を分析"
      ]
    },
    {
      "cell_type": "markdown",
      "metadata": {
        "id": "YJP8FcXXV-63",
        "colab_type": "text"
      },
      "source": [
        "##輸送最適化問題を解いてみる"
      ]
    },
    {
      "cell_type": "code",
      "metadata": {
        "id": "_EBo-M7BUwHZ",
        "colab_type": "code",
        "colab": {
          "base_uri": "https://localhost:8080/",
          "height": 266
        },
        "outputId": "310a5ec8-976b-4a74-95f9-89579f45aeeb"
      },
      "source": [
        "!pip install pulp\n",
        "!pip install ortoolpy\n",
        "\n",
        "import numpy as np\n",
        "import pandas as pd\n",
        "from itertools import product\n",
        "from pulp import LpVariable, lpSum, value\n",
        "from ortoolpy import model_min, addvars, addvals\n"
      ],
      "execution_count": 6,
      "outputs": [
        {
          "output_type": "stream",
          "text": [
            "Requirement already satisfied: pulp in /usr/local/lib/python3.6/dist-packages (2.1)\n",
            "Requirement already satisfied: pyparsing>=2.0.1 in /usr/local/lib/python3.6/dist-packages (from pulp) (2.4.7)\n",
            "Collecting ortoolpy\n",
            "  Downloading https://files.pythonhosted.org/packages/97/8a/7c7ee8c19ca5157c89f498e062ccb421c97cb0ce0c2a77754e09865d9a48/ortoolpy-0.2.30.tar.gz\n",
            "Requirement already satisfied: pulp in /usr/local/lib/python3.6/dist-packages (from ortoolpy) (2.1)\n",
            "Requirement already satisfied: pyparsing>=2.0.1 in /usr/local/lib/python3.6/dist-packages (from pulp->ortoolpy) (2.4.7)\n",
            "Building wheels for collected packages: ortoolpy\n",
            "  Building wheel for ortoolpy (setup.py) ... \u001b[?25l\u001b[?25hdone\n",
            "  Created wheel for ortoolpy: filename=ortoolpy-0.2.30-cp36-none-any.whl size=23236 sha256=e6ceeb39dcb9ee03eb46f766226f7a5fc2fc7e3bcac425f6bf3019dd00829c85\n",
            "  Stored in directory: /root/.cache/pip/wheels/04/b2/96/f6ef2da1545a11cd91ee4bd9da930d588dde5751ac7e088a74\n",
            "Successfully built ortoolpy\n",
            "Installing collected packages: ortoolpy\n",
            "Successfully installed ortoolpy-0.2.30\n"
          ],
          "name": "stdout"
        }
      ]
    },
    {
      "cell_type": "code",
      "metadata": {
        "id": "jZ8ZI8_Hiyir",
        "colab_type": "code",
        "colab": {}
      },
      "source": [
        "df_tc = pd.read_csv('trans_cost.csv', index_col=\"工場\")\n",
        "df_demand = pd.read_csv('demand.csv')\n",
        "df_supply = pd.read_csv('supply.csv')\n"
      ],
      "execution_count": 0,
      "outputs": []
    },
    {
      "cell_type": "code",
      "metadata": {
        "id": "UTyAKEfhjPLl",
        "colab_type": "code",
        "colab": {}
      },
      "source": [
        "np.random.seed(1)\n",
        "nw = len(df_tc.index)\n",
        "nf = len(df_tc.columns)\n",
        "pr = list(product(range(nw), range(nf)))"
      ],
      "execution_count": 0,
      "outputs": []
    },
    {
      "cell_type": "markdown",
      "metadata": {
        "id": "qk-6JEjGj8AC",
        "colab_type": "text"
      },
      "source": [
        "数理モデル作成"
      ]
    },
    {
      "cell_type": "code",
      "metadata": {
        "id": "T6a1gf7XjgIH",
        "colab_type": "code",
        "colab": {
          "base_uri": "https://localhost:8080/",
          "height": 34
        },
        "outputId": "fbca8c07-e3ac-4fe2-acff-bb3aba8b0b11"
      },
      "source": [
        "m1 = model_min()\n",
        "v1 ={(i,j):LpVariable('v%d_%d'%(i,j),lowBound=0) for i,j in pr}\n",
        "\n",
        "m1 += lpSum(df_tc.iloc[i][j]*v1[i,j] for i,j in pr)\n",
        "for i in range(nw):\n",
        "  m1 += lpSum(v1[i,j] for j in range(nf)) <= df_supply.iloc[0][i]\n",
        "for j in range(nf):\n",
        "  m1 += lpSum(v1[i,j] for i in range(nw)) >= df_demand.iloc[0][i]\n",
        "m1.solve()"
      ],
      "execution_count": 9,
      "outputs": [
        {
          "output_type": "execute_result",
          "data": {
            "text/plain": [
              "-1"
            ]
          },
          "metadata": {
            "tags": []
          },
          "execution_count": 9
        }
      ]
    },
    {
      "cell_type": "markdown",
      "metadata": {
        "id": "x5xMlqGDk1gf",
        "colab_type": "text"
      },
      "source": [
        "総輸送コスト計算"
      ]
    },
    {
      "cell_type": "code",
      "metadata": {
        "id": "85m-SV7Kk0VA",
        "colab_type": "code",
        "colab": {
          "base_uri": "https://localhost:8080/",
          "height": 122
        },
        "outputId": "8f8eba0d-46f0-44a5-a8e8-8b7d64c3fa1b"
      },
      "source": [
        "df_tr_sol = df_tc.copy()\n",
        "total_cost = 0\n",
        "for k,x in v1.items():\n",
        "  i,j = k[0],k[1]\n",
        "  df_tr_sol.iloc[i][j] = value(x)\n",
        "  total_cost += df_tc.iloc[i][j]*value(x)\n",
        "\n",
        "print(df_tr_sol)\n",
        "print(\"総輸送コスト：\" + str(total_cost))"
      ],
      "execution_count": 10,
      "outputs": [
        {
          "output_type": "stream",
          "text": [
            "    F1  F2  F3  F4\n",
            "工場                \n",
            "W1  31   4   0   0\n",
            "W2   0   0  31  16\n",
            "W3   0  27   0  15\n",
            "総輸送コスト：1450.0\n"
          ],
          "name": "stdout"
        }
      ]
    },
    {
      "cell_type": "markdown",
      "metadata": {
        "id": "Gl-gWTbMm73_",
        "colab_type": "text"
      },
      "source": [
        "##最適輸送ルートをネットワークで確認"
      ]
    },
    {
      "cell_type": "code",
      "metadata": {
        "id": "Pnd-OucEnBaw",
        "colab_type": "code",
        "colab": {}
      },
      "source": [
        "import matplotlib.pyplot as plt\n",
        "import networkx as nx\n",
        "\n",
        "df_tr = pd.read_csv('trans_route.csv', index_col=\"工場\")\n",
        "df_pos = pd.read_csv('trans_route_pos.csv')"
      ],
      "execution_count": 0,
      "outputs": []
    },
    {
      "cell_type": "code",
      "metadata": {
        "id": "vToGX6ujnppE",
        "colab_type": "code",
        "colab": {
          "base_uri": "https://localhost:8080/",
          "height": 319
        },
        "outputId": "ae0846dc-7b82-4c5d-cba2-f868c221f2e4"
      },
      "source": [
        "G = nx.Graph()\n",
        "\n",
        "for i in range(len(df_pos.columns)):\n",
        "  G.add_node(df_pos.columns[i])\n",
        "\n",
        "num_pre = 0\n",
        "edge_weights = []\n",
        "size = 0.1\n",
        "for i in range(len(df_pos.columns)):\n",
        "  for j in range(len(df_pos.columns)):\n",
        "    if not (i==j):\n",
        "      G.add_edge(df_pos.columns[i],df_pos.columns[j])\n",
        "      if num_pre<len(G.edges):\n",
        "        num_pre = len(G.edges)\n",
        "        weight = 0\n",
        "        if (df_pos.columns[i] in df_tr.columns)and(df_pos.columns[j] in df_tr.index):\n",
        "          if df_tr[df_pos.columns[i]][df_pos.columns[j]]:\n",
        "            weight = df_tr[df_pos.columns[i][df_pos.columns][j]]*size\n",
        "        elif (df_pos.columns[j] in df_tr.columns)and(df_pos.columns[i] in df_tr.index):\n",
        "          if df_tr[df_pos.columns[j]][df_pos.columns[i]]:\n",
        "            weight = df_tr[df_pos.columns[j]][df_pos.columns[i]]*size\n",
        "        edge_weights.append(weight)\n",
        "\n",
        "pos={}\n",
        "for i in range(len(df_pos.columns)):\n",
        "  node = df_pos.columns[i]\n",
        "  pos[node] = (df_pos[node][0],df_pos[node][1])\n",
        "\n",
        "nx.draw(G,pos,with_labels=True,font_size=16,node_size=1000,node_color='k',font_color='w',width=edge_weights)\n",
        "\n",
        "plt.show()"
      ],
      "execution_count": 14,
      "outputs": [
        {
          "output_type": "display_data",
          "data": {
            "image/png": "[encoded data removed]",
            "text/plain": [
              "<Figure size 432x288 with 1 Axes>"
            ]
          },
          "metadata": {
            "tags": []
          }
        }
      ]
    },
    {
      "cell_type": "markdown",
      "metadata": {
        "id": "1-Mjxpa2qBS7",
        "colab_type": "text"
      },
      "source": [
        "##最適ルートが制約条件内におさまっているかどうかを確認"
      ]
    },
    {
      "cell_type": "markdown",
      "metadata": {
        "id": "Ozr9yohTrAen",
        "colab_type": "text"
      },
      "source": [
        "制約条件計算関数"
      ]
    },
    {
      "cell_type": "code",
      "metadata": {
        "id": "PNhXWj07qFf5",
        "colab_type": "code",
        "colab": {}
      },
      "source": [
        "def condition_demand(df_tr,df_demand):\n",
        "  flag = np.zeros(len(df_demand.columns))\n",
        "  for i in range(len(df_demand.columns)):\n",
        "    temp_sum = sum(df_tr[df_demand.columns[i]])\n",
        "    if (temp_sum)>=df_demand.iloc[0][i]):\n",
        "      flag[i] = 1\n",
        "  return flag"
      ],
      "execution_count": 0,
      "outputs": []
    },
    {
      "cell_type": "code",
      "metadata": {
        "id": "fUvThkHLruC-",
        "colab_type": "code",
        "colab": {}
      },
      "source": [
        "def condition_supply(df_tr,df_supply):\n",
        "  flag = np.zeros(len(df_supply.columns))\n",
        "  for i in range(len(df_supply.columns)):\n",
        "    temp_sum = sum(df_tr.loc[df_supply.columns[i]])\n",
        "    if temp_sum>=df_supply.iloc[0][i]:\n",
        "      flag[i] = 1\n",
        "  return flag"
      ],
      "execution_count": 0,
      "outputs": []
    },
    {
      "cell_type": "code",
      "metadata": {
        "id": "ztiO4nIrsL93",
        "colab_type": "code",
        "colab": {
          "base_uri": "https://localhost:8080/",
          "height": 52
        },
        "outputId": "c9114a64-1ec2-4adb-b1c2-c4f6120fd3d9"
      },
      "source": [
        "print(\"需要条件計算結果：\" + str(condition_demand(df_tr_sol,df_demand)))\n",
        "print(\"供給条件計算結果：\" + str(condition_supply(df_tr_sol,df_supply)))"
      ],
      "execution_count": 17,
      "outputs": [
        {
          "output_type": "stream",
          "text": [
            "需要条件計算結果：[1. 1. 1. 1.]\n",
            "供給条件計算結果：[1. 1. 1.]\n"
          ],
          "name": "stdout"
        }
      ]
    },
    {
      "cell_type": "markdown",
      "metadata": {
        "id": "iOF83ouJsrvA",
        "colab_type": "text"
      },
      "source": [
        "##生産計画に関するデータを読み込む"
      ]
    },
    {
      "cell_type": "code",
      "metadata": {
        "id": "LGxbYcQTsu9V",
        "colab_type": "code",
        "colab": {
          "base_uri": "https://localhost:8080/",
          "height": 87
        },
        "outputId": "57194181-e106-4161-e0eb-29055daf8f06"
      },
      "source": [
        "df_material = pd.read_csv('product_plan_material.csv', index_col=\"製品\")\n",
        "print(df_material)"
      ],
      "execution_count": 18,
      "outputs": [
        {
          "output_type": "stream",
          "text": [
            "     原料1  原料2  原料3\n",
            "製品                \n",
            "製品1    1    4    3\n",
            "製品2    2    4    1\n"
          ],
          "name": "stdout"
        }
      ]
    },
    {
      "cell_type": "code",
      "metadata": {
        "id": "UeZaswSbtE0o",
        "colab_type": "code",
        "colab": {
          "base_uri": "https://localhost:8080/",
          "height": 87
        },
        "outputId": "389c039d-d509-4f2e-bd2a-d7ea5e5f6fde"
      },
      "source": [
        "df_profit = pd.read_csv('product_plan_profit.csv', index_col=\"製品\")\n",
        "print(df_profit)"
      ],
      "execution_count": 21,
      "outputs": [
        {
          "output_type": "stream",
          "text": [
            "      利益\n",
            "製品      \n",
            "製品1  5.0\n",
            "製品2  4.0\n"
          ],
          "name": "stdout"
        }
      ]
    },
    {
      "cell_type": "code",
      "metadata": {
        "id": "nTZIaSuFtPq6",
        "colab_type": "code",
        "colab": {
          "base_uri": "https://localhost:8080/",
          "height": 70
        },
        "outputId": "90e53378-4ae4-445c-99b3-1a6947219534"
      },
      "source": [
        "df_stock = pd.read_csv('product_plan_stock.csv', index_col=\"項目\")\n",
        "print(df_stock)"
      ],
      "execution_count": 22,
      "outputs": [
        {
          "output_type": "stream",
          "text": [
            "    原料1  原料2  原料3\n",
            "項目               \n",
            "在庫   40   80   50\n"
          ],
          "name": "stdout"
        }
      ]
    },
    {
      "cell_type": "code",
      "metadata": {
        "id": "cD6tzkiLtqk1",
        "colab_type": "code",
        "colab": {
          "base_uri": "https://localhost:8080/",
          "height": 87
        },
        "outputId": "8c717fe1-f072-453b-ce4d-16e1d62c4b7f"
      },
      "source": [
        "df_plan = pd.read_csv('product_plan.csv', index_col=\"製品\")\n",
        "print(df_plan)"
      ],
      "execution_count": 23,
      "outputs": [
        {
          "output_type": "stream",
          "text": [
            "      生産量\n",
            "製品       \n",
            "製品1    16\n",
            "製品2     0\n"
          ],
          "name": "stdout"
        }
      ]
    },
    {
      "cell_type": "markdown",
      "metadata": {
        "id": "dTn-B77LuHXL",
        "colab_type": "text"
      },
      "source": [
        "##利益を計算する関数を作る"
      ]
    },
    {
      "cell_type": "code",
      "metadata": {
        "id": "5aR4GmfJuNlY",
        "colab_type": "code",
        "colab": {
          "base_uri": "https://localhost:8080/",
          "height": 34
        },
        "outputId": "1e58df29-75f6-4f4c-f693-18859b429b91"
      },
      "source": [
        "def product_plan(df_profit,df_plan):\n",
        "  profit = 0\n",
        "  for i in range(len(df_profit.index)):\n",
        "    for j in range(len(df_plan.columns)):\n",
        "      profit += df_profit.iloc[i][j]*df_plan.iloc[i][j]\n",
        "  return profit\n",
        "\n",
        "print(\"総利益：\" + str(product_plan(df_profit, df_plan)))"
      ],
      "execution_count": 24,
      "outputs": [
        {
          "output_type": "stream",
          "text": [
            "総利益：80.0\n"
          ],
          "name": "stdout"
        }
      ]
    },
    {
      "cell_type": "markdown",
      "metadata": {
        "id": "OY6ncIuz7sqJ",
        "colab_type": "text"
      },
      "source": [
        "##生産最適化問題を解く"
      ]
    },
    {
      "cell_type": "code",
      "metadata": {
        "id": "mFbW3lhY7weI",
        "colab_type": "code",
        "colab": {
          "base_uri": "https://localhost:8080/",
          "height": 34
        },
        "outputId": "86431a5b-bd41-4f5b-ff6b-b9e8c2abb7c4"
      },
      "source": [
        "from ortoolpy import model_max\n",
        "df = df_material.copy()\n",
        "inv = df_stock\n",
        "\n",
        "m = model_max()\n",
        "v1 = {(i):LpVariable('v%d'%(i),lowBound=0) for i in range(len(df_profit))}\n",
        "m += lpSum(df_profit.iloc[i]*v1[i] for i in range(len(df_profit)))\n",
        "for i in range(len(df_material.columns)):\n",
        "  m += lpSum(df_material.iloc[j,i]*v1[j] for j in range(len(df_profit))) <= df_stock.iloc[:,i]\n",
        "m.solve()"
      ],
      "execution_count": 27,
      "outputs": [
        {
          "output_type": "execute_result",
          "data": {
            "text/plain": [
              "1"
            ]
          },
          "metadata": {
            "tags": []
          },
          "execution_count": 27
        }
      ]
    },
    {
      "cell_type": "code",
      "metadata": {
        "id": "p-U7Nknx9WNF",
        "colab_type": "code",
        "colab": {
          "base_uri": "https://localhost:8080/",
          "height": 34
        },
        "outputId": "2ffd3851-c25b-4877-b1fc-01a0be33bb86"
      },
      "source": [
        "v1"
      ],
      "execution_count": 29,
      "outputs": [
        {
          "output_type": "execute_result",
          "data": {
            "text/plain": [
              "{0: v0, 1: v1}"
            ]
          },
          "metadata": {
            "tags": []
          },
          "execution_count": 29
        }
      ]
    },
    {
      "cell_type": "code",
      "metadata": {
        "id": "r2FCmWTo83Nm",
        "colab_type": "code",
        "colab": {
          "base_uri": "https://localhost:8080/",
          "height": 105
        },
        "outputId": "f432f414-a18a-407d-f7bf-0b2302b46d25"
      },
      "source": [
        "df_plan_sol = df_plan.copy()\n",
        "for k,x in v1.items():\n",
        "  df_plan_sol.iloc[k] = value(x)\n",
        "print(df_plan_sol)\n",
        "print(\"総利益： \" + str(value(m.objective)))"
      ],
      "execution_count": 28,
      "outputs": [
        {
          "output_type": "stream",
          "text": [
            "      生産量\n",
            "製品       \n",
            "製品1  15.0\n",
            "製品2   5.0\n",
            "総利益： 95.0\n"
          ],
          "name": "stdout"
        }
      ]
    },
    {
      "cell_type": "markdown",
      "metadata": {
        "id": "ckLzCVU7-kCl",
        "colab_type": "text"
      },
      "source": [
        "##最適生産計画が制約条件内におさまっているかどうかを確認"
      ]
    },
    {
      "cell_type": "markdown",
      "metadata": {
        "id": "JIpVZr0B-2F_",
        "colab_type": "text"
      },
      "source": [
        "それぞれの原料の使用量がどの程度であり、それが在庫を効率よく利用できているかを調べる"
      ]
    },
    {
      "cell_type": "code",
      "metadata": {
        "id": "ry93_tVZ-pXN",
        "colab_type": "code",
        "colab": {
          "base_uri": "https://localhost:8080/",
          "height": 87
        },
        "outputId": "e649104c-195a-48a9-dac0-3e2867ce0bdd"
      },
      "source": [
        "def condition_stock(df_plan,df_material,df_stock):\n",
        "  flag = np.zeros(len(df_material.columns))\n",
        "  for i in range(len(df_material.columns)):\n",
        "    temp_sum = 0\n",
        "    for j in range(len(df_material.index)):\n",
        "      temp_sum = temp_sum + df_material.iloc[j][i]*float(df_plan.iloc[j])\n",
        "    if (temp_sum<=float(df_stock.iloc[0][i])):\n",
        "      flag[i]=1\n",
        "    print(df_material.columns[i]+ \" 使用量：\" + str(temp_sum) + \", 在庫：\" + str(float(df_stock.iloc[0][i])))\n",
        "  return flag\n",
        "\n",
        "print(\"制約条件計算結果：\" + str(condition_stock(df_plan_sol,df_material,df_stock)))"
      ],
      "execution_count": 30,
      "outputs": [
        {
          "output_type": "stream",
          "text": [
            "原料1 使用量：25.0, 在庫：40.0\n",
            "原料2 使用量：80.0, 在庫：80.0\n",
            "原料3 使用量：50.0, 在庫：50.0\n",
            "制約条件計算結果：[1. 1. 1.]\n"
          ],
          "name": "stdout"
        }
      ]
    },
    {
      "cell_type": "markdown",
      "metadata": {
        "id": "-q00r4aDAL-Z",
        "colab_type": "text"
      },
      "source": [
        "##ロジスティクスネットワーク設計問題を解く"
      ]
    },
    {
      "cell_type": "markdown",
      "metadata": {
        "id": "3i8BReCFFHSf",
        "colab_type": "text"
      },
      "source": [
        "輸送コストと製造コストが、需要を満たしつつ最小になるように定式化\n",
        "目的関数としては輸送コストと製造コストの和を与え、制約条件としては各商店での販売数が需要数を上回ることを考える"
      ]
    },
    {
      "cell_type": "code",
      "metadata": {
        "id": "IEaRdN_ZAPsc",
        "colab_type": "code",
        "colab": {}
      },
      "source": [
        "製品 = list('AB')\n",
        "需要地 = list('PQ')\n",
        "工場 = list('XY')\n",
        "レーン = (2,2)"
      ],
      "execution_count": 0,
      "outputs": []
    },
    {
      "cell_type": "markdown",
      "metadata": {
        "id": "KBNQ6RjXFmhT",
        "colab_type": "text"
      },
      "source": [
        "輸送費表"
      ]
    },
    {
      "cell_type": "code",
      "metadata": {
        "id": "kN9EXp9KFoo0",
        "colab_type": "code",
        "colab": {
          "base_uri": "https://localhost:8080/",
          "height": 105
        },
        "outputId": "11e44a31-3ca2-421d-95c7-de4050325cb3"
      },
      "source": [
        "tbdi = pd.DataFrame(((j,k) for j in 需要地 for k in 工場), columns=['需要地','工場'])\n",
        "tbdi['輸送費'] = [1,2,3,1]\n",
        "print(tbdi)"
      ],
      "execution_count": 32,
      "outputs": [
        {
          "output_type": "stream",
          "text": [
            "  需要地 工場  輸送費\n",
            "0   P  X    1\n",
            "1   P  Y    2\n",
            "2   Q  X    3\n",
            "3   Q  Y    1\n"
          ],
          "name": "stdout"
        }
      ]
    },
    {
      "cell_type": "markdown",
      "metadata": {
        "id": "OPIPA-HeGGTw",
        "colab_type": "text"
      },
      "source": [
        "需要表"
      ]
    },
    {
      "cell_type": "code",
      "metadata": {
        "id": "p_KuOjsDGFPe",
        "colab_type": "code",
        "colab": {
          "base_uri": "https://localhost:8080/",
          "height": 105
        },
        "outputId": "844f5223-120a-452b-ace9-b1e9ea288655"
      },
      "source": [
        "tbde = pd.DataFrame(((j,i) for j in 需要地 for i in 製品), columns=['需要','製品'])\n",
        "tbde['需要'] = [10,10,20,20]\n",
        "print(tbde)"
      ],
      "execution_count": 33,
      "outputs": [
        {
          "output_type": "stream",
          "text": [
            "   需要 製品\n",
            "0  10  A\n",
            "1  10  B\n",
            "2  20  A\n",
            "3  20  B\n"
          ],
          "name": "stdout"
        }
      ]
    },
    {
      "cell_type": "markdown",
      "metadata": {
        "id": "o6PtZOldGajC",
        "colab_type": "text"
      },
      "source": [
        "生産表"
      ]
    },
    {
      "cell_type": "code",
      "metadata": {
        "id": "Yo9aA6-2Geo5",
        "colab_type": "code",
        "colab": {
          "base_uri": "https://localhost:8080/",
          "height": 122
        },
        "outputId": "d3d029e5-cb9f-4045-b8cf-11c7f2fbc07e"
      },
      "source": [
        "tbfa = pd.DataFrame(((k,l,i,0,np.inf) for k,nl in zip (工場,レーン) for l in range(nl) for i in 製品), columns=['工場','レーン','製品','下限','上限'])\n",
        "tbfa['生産費'] = [1,np.nan,np.nan,1,3,np.nan,5,3]\n",
        "tbfa.dropna(inplace=True)\n",
        "tbfa.loc[4,'上限']=10\n",
        "print(tbfa)"
      ],
      "execution_count": 34,
      "outputs": [
        {
          "output_type": "stream",
          "text": [
            "  工場  レーン 製品  下限    上限  生産費\n",
            "0  X    0  A   0   inf  1.0\n",
            "3  X    1  B   0   inf  1.0\n",
            "4  Y    0  A   0  10.0  3.0\n",
            "6  Y    1  A   0   inf  5.0\n",
            "7  Y    1  B   0   inf  3.0\n"
          ],
          "name": "stdout"
        }
      ]
    },
    {
      "cell_type": "code",
      "metadata": {
        "id": "r9QyC_iTHRGh",
        "colab_type": "code",
        "colab": {
          "base_uri": "https://localhost:8080/",
          "height": 281
        },
        "outputId": "d3132d5a-1d17-4582-a8ab-959e7a11d424"
      },
      "source": [
        "from ortoolpy import logistics_network\n",
        "_, tbdi2, _ = logistics_network(tbde,tbdi,tbfa)\n",
        "print(tbfa)\n",
        "print(tbdi2)"
      ],
      "execution_count": 36,
      "outputs": [
        {
          "output_type": "stream",
          "text": [
            "  工場  レーン 製品  下限    上限  生産費     VarY  ValY\n",
            "0  X    0  A   0   inf  1.0  v000022  40.0\n",
            "3  X    1  B   0   inf  1.0  v000023  40.0\n",
            "4  Y    0  A   0  10.0  3.0  v000024   0.0\n",
            "6  Y    1  A   0   inf  5.0  v000025   0.0\n",
            "7  Y    1  B   0   inf  3.0  v000026   0.0\n",
            "  需要地 工場  輸送費 製品     VarX  ValX\n",
            "0   P  X    1  A  v000014  20.0\n",
            "1   P  X    1  B  v000015  20.0\n",
            "2   Q  X    3  A  v000016  20.0\n",
            "3   Q  X    3  B  v000017  20.0\n",
            "4   P  Y    2  A  v000018   0.0\n",
            "5   P  Y    2  B  v000019   0.0\n",
            "6   Q  Y    1  A  v000020   0.0\n",
            "7   Q  Y    1  B  v000021   0.0\n"
          ],
          "name": "stdout"
        }
      ]
    },
    {
      "cell_type": "markdown",
      "metadata": {
        "id": "PJgUUYcWHvat",
        "colab_type": "text"
      },
      "source": [
        "##最適ネットワークにおける輸送コストとその内訳を計算"
      ]
    },
    {
      "cell_type": "markdown",
      "metadata": {
        "id": "2aIWbqu8H3sp",
        "colab_type": "text"
      },
      "source": [
        "輸送費のカラムと、最適輸送量を格納するValXのカラムをかけ合わせることで、輸送コストが計算できる"
      ]
    },
    {
      "cell_type": "code",
      "metadata": {
        "id": "u5sYFiuxHzqW",
        "colab_type": "code",
        "colab": {
          "base_uri": "https://localhost:8080/",
          "height": 193
        },
        "outputId": "4ccbcdae-3917-4252-a8ff-dacd83b06b35"
      },
      "source": [
        "print(tbdi2)\n",
        "trans_cost = 0\n",
        "for i in range(len(tbdi2.index)):\n",
        "  trans_cost += tbdi2[\"輸送費\"].iloc[i]*tbdi2[\"ValX\"].iloc[i]\n",
        "print(\"総輸送コスト：\" + str(trans_cost))"
      ],
      "execution_count": 37,
      "outputs": [
        {
          "output_type": "stream",
          "text": [
            "  需要地 工場  輸送費 製品     VarX  ValX\n",
            "0   P  X    1  A  v000014  20.0\n",
            "1   P  X    1  B  v000015  20.0\n",
            "2   Q  X    3  A  v000016  20.0\n",
            "3   Q  X    3  B  v000017  20.0\n",
            "4   P  Y    2  A  v000018   0.0\n",
            "5   P  Y    2  B  v000019   0.0\n",
            "6   Q  Y    1  A  v000020   0.0\n",
            "7   Q  Y    1  B  v000021   0.0\n",
            "総輸送コスト：160.0\n"
          ],
          "name": "stdout"
        }
      ]
    }
  ]
}