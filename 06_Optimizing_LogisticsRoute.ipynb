{
  "nbformat": 4,
  "nbformat_minor": 0,
  "metadata": {
    "colab": {
      "name": "06_Optimizing_LogisticsRoute.ipynb",
      "provenance": [],
      "collapsed_sections": [],
      "authorship_tag": "ABX9TyPAVb110Xq3/tD9bXtLZyXw",
      "include_colab_link": true
    },
    "kernelspec": {
      "name": "python3",
      "display_name": "Python 3"
    }
  },
  "cells": [
    {
      "cell_type": "markdown",
      "metadata": {
        "id": "view-in-github",
        "colab_type": "text"
      },
      "source": [
        "<a href=\"https://colab.research.google.com/github/sakamoto-hands-on/Python_Practical_DataAnalysis100/blob/master/06_Optimizing_LogisticsRoute.ipynb\" target=\"_parent\"><img src=\"https://colab.research.google.com/assets/colab-badge.svg\" alt=\"Open In Colab\"/></a>"
      ]
    },
    {
      "cell_type": "code",
      "metadata": {
        "id": "Q943V88TxFUR",
        "colab_type": "code",
        "colab": {}
      },
      "source": [
        "import pandas as pd"
      ],
      "execution_count": 0,
      "outputs": []
    },
    {
      "cell_type": "code",
      "metadata": {
        "id": "lR17OmZvxb7P",
        "colab_type": "code",
        "colab": {
          "base_uri": "https://localhost:8080/",
          "height": 314
        },
        "outputId": "2853a7a4-3e1a-41a6-c573-83575aefc479"
      },
      "source": [
        "factories = pd.read_csv(\"tbl_factory.csv\", index_col=0)\n",
        "factories"
      ],
      "execution_count": 2,
      "outputs": [
        {
          "output_type": "execute_result",
          "data": {
            "text/html": [
              "<div>\n",
              "<style scoped>\n",
              "    .dataframe tbody tr th:only-of-type {\n",
              "        vertical-align: middle;\n",
              "    }\n",
              "\n",
              "    .dataframe tbody tr th {\n",
              "        vertical-align: top;\n",
              "    }\n",
              "\n",
              "    .dataframe thead th {\n",
              "        text-align: right;\n",
              "    }\n",
              "</style>\n",
              "<table border=\"1\" class=\"dataframe\">\n",
              "  <thead>\n",
              "    <tr style=\"text-align: right;\">\n",
              "      <th></th>\n",
              "      <th>FCName</th>\n",
              "      <th>FCDemand</th>\n",
              "      <th>FCRegion</th>\n",
              "    </tr>\n",
              "    <tr>\n",
              "      <th>FCID</th>\n",
              "      <th></th>\n",
              "      <th></th>\n",
              "      <th></th>\n",
              "    </tr>\n",
              "  </thead>\n",
              "  <tbody>\n",
              "    <tr>\n",
              "      <th>FC00001</th>\n",
              "      <td>東京工場</td>\n",
              "      <td>28</td>\n",
              "      <td>関東</td>\n",
              "    </tr>\n",
              "    <tr>\n",
              "      <th>FC00002</th>\n",
              "      <td>木更津工場</td>\n",
              "      <td>29</td>\n",
              "      <td>関東</td>\n",
              "    </tr>\n",
              "    <tr>\n",
              "      <th>FC00003</th>\n",
              "      <td>多摩工場</td>\n",
              "      <td>31</td>\n",
              "      <td>関東</td>\n",
              "    </tr>\n",
              "    <tr>\n",
              "      <th>FC00004</th>\n",
              "      <td>横須賀工場</td>\n",
              "      <td>25</td>\n",
              "      <td>関東</td>\n",
              "    </tr>\n",
              "    <tr>\n",
              "      <th>FC00005</th>\n",
              "      <td>仙台工場</td>\n",
              "      <td>21</td>\n",
              "      <td>東北</td>\n",
              "    </tr>\n",
              "    <tr>\n",
              "      <th>FC00006</th>\n",
              "      <td>山形工場</td>\n",
              "      <td>30</td>\n",
              "      <td>東北</td>\n",
              "    </tr>\n",
              "    <tr>\n",
              "      <th>FC00007</th>\n",
              "      <td>那須工場</td>\n",
              "      <td>25</td>\n",
              "      <td>東北</td>\n",
              "    </tr>\n",
              "    <tr>\n",
              "      <th>FC00008</th>\n",
              "      <td>青森工場</td>\n",
              "      <td>16</td>\n",
              "      <td>東北</td>\n",
              "    </tr>\n",
              "  </tbody>\n",
              "</table>\n",
              "</div>"
            ],
            "text/plain": [
              "        FCName  FCDemand FCRegion\n",
              "FCID                             \n",
              "FC00001   東京工場        28       関東\n",
              "FC00002  木更津工場        29       関東\n",
              "FC00003   多摩工場        31       関東\n",
              "FC00004  横須賀工場        25       関東\n",
              "FC00005   仙台工場        21       東北\n",
              "FC00006   山形工場        30       東北\n",
              "FC00007   那須工場        25       東北\n",
              "FC00008   青森工場        16       東北"
            ]
          },
          "metadata": {
            "tags": []
          },
          "execution_count": 2
        }
      ]
    },
    {
      "cell_type": "code",
      "metadata": {
        "id": "4x7fis4Gxr2b",
        "colab_type": "code",
        "colab": {
          "base_uri": "https://localhost:8080/",
          "height": 254
        },
        "outputId": "67cfb7ba-20c9-4e10-c293-c2c1f63e97c3"
      },
      "source": [
        "warehouses = pd.read_csv(\"tbl_warehouse.csv\", index_col=0)\n",
        "warehouses "
      ],
      "execution_count": 4,
      "outputs": [
        {
          "output_type": "execute_result",
          "data": {
            "text/html": [
              "<div>\n",
              "<style scoped>\n",
              "    .dataframe tbody tr th:only-of-type {\n",
              "        vertical-align: middle;\n",
              "    }\n",
              "\n",
              "    .dataframe tbody tr th {\n",
              "        vertical-align: top;\n",
              "    }\n",
              "\n",
              "    .dataframe thead th {\n",
              "        text-align: right;\n",
              "    }\n",
              "</style>\n",
              "<table border=\"1\" class=\"dataframe\">\n",
              "  <thead>\n",
              "    <tr style=\"text-align: right;\">\n",
              "      <th></th>\n",
              "      <th>WHName</th>\n",
              "      <th>WHSupply</th>\n",
              "      <th>WHRegion</th>\n",
              "    </tr>\n",
              "    <tr>\n",
              "      <th>WHID</th>\n",
              "      <th></th>\n",
              "      <th></th>\n",
              "      <th></th>\n",
              "    </tr>\n",
              "  </thead>\n",
              "  <tbody>\n",
              "    <tr>\n",
              "      <th>WH00001</th>\n",
              "      <td>杉並倉庫</td>\n",
              "      <td>35</td>\n",
              "      <td>関東</td>\n",
              "    </tr>\n",
              "    <tr>\n",
              "      <th>WH00002</th>\n",
              "      <td>品川倉庫</td>\n",
              "      <td>41</td>\n",
              "      <td>関東</td>\n",
              "    </tr>\n",
              "    <tr>\n",
              "      <th>WH00003</th>\n",
              "      <td>豊洲倉庫</td>\n",
              "      <td>42</td>\n",
              "      <td>関東</td>\n",
              "    </tr>\n",
              "    <tr>\n",
              "      <th>WH00004</th>\n",
              "      <td>郡山倉庫</td>\n",
              "      <td>60</td>\n",
              "      <td>東北</td>\n",
              "    </tr>\n",
              "    <tr>\n",
              "      <th>WH00005</th>\n",
              "      <td>仙台倉庫</td>\n",
              "      <td>72</td>\n",
              "      <td>東北</td>\n",
              "    </tr>\n",
              "    <tr>\n",
              "      <th>WH00006</th>\n",
              "      <td>山形倉庫</td>\n",
              "      <td>65</td>\n",
              "      <td>東北</td>\n",
              "    </tr>\n",
              "  </tbody>\n",
              "</table>\n",
              "</div>"
            ],
            "text/plain": [
              "        WHName  WHSupply WHRegion\n",
              "WHID                             \n",
              "WH00001   杉並倉庫        35       関東\n",
              "WH00002   品川倉庫        41       関東\n",
              "WH00003   豊洲倉庫        42       関東\n",
              "WH00004   郡山倉庫        60       東北\n",
              "WH00005   仙台倉庫        72       東北\n",
              "WH00006   山形倉庫        65       東北"
            ]
          },
          "metadata": {
            "tags": []
          },
          "execution_count": 4
        }
      ]
    },
    {
      "cell_type": "code",
      "metadata": {
        "id": "xkP6oDKmyrpx",
        "colab_type": "code",
        "colab": {
          "base_uri": "https://localhost:8080/",
          "height": 787
        },
        "outputId": "67b9a80b-7618-49f3-f7a1-5618496945d5"
      },
      "source": [
        "cost = pd.read_csv(\"rel_cost.csv\", index_col=0)\n",
        "cost "
      ],
      "execution_count": 5,
      "outputs": [
        {
          "output_type": "execute_result",
          "data": {
            "text/html": [
              "<div>\n",
              "<style scoped>\n",
              "    .dataframe tbody tr th:only-of-type {\n",
              "        vertical-align: middle;\n",
              "    }\n",
              "\n",
              "    .dataframe tbody tr th {\n",
              "        vertical-align: top;\n",
              "    }\n",
              "\n",
              "    .dataframe thead th {\n",
              "        text-align: right;\n",
              "    }\n",
              "</style>\n",
              "<table border=\"1\" class=\"dataframe\">\n",
              "  <thead>\n",
              "    <tr style=\"text-align: right;\">\n",
              "      <th></th>\n",
              "      <th>FCID</th>\n",
              "      <th>WHID</th>\n",
              "      <th>Cost</th>\n",
              "    </tr>\n",
              "    <tr>\n",
              "      <th>RCostID</th>\n",
              "      <th></th>\n",
              "      <th></th>\n",
              "      <th></th>\n",
              "    </tr>\n",
              "  </thead>\n",
              "  <tbody>\n",
              "    <tr>\n",
              "      <th>1</th>\n",
              "      <td>FC00001</td>\n",
              "      <td>WH00001</td>\n",
              "      <td>0.4</td>\n",
              "    </tr>\n",
              "    <tr>\n",
              "      <th>2</th>\n",
              "      <td>FC00001</td>\n",
              "      <td>WH00002</td>\n",
              "      <td>0.8</td>\n",
              "    </tr>\n",
              "    <tr>\n",
              "      <th>3</th>\n",
              "      <td>FC00001</td>\n",
              "      <td>WH00003</td>\n",
              "      <td>1.5</td>\n",
              "    </tr>\n",
              "    <tr>\n",
              "      <th>4</th>\n",
              "      <td>FC00002</td>\n",
              "      <td>WH00001</td>\n",
              "      <td>0.9</td>\n",
              "    </tr>\n",
              "    <tr>\n",
              "      <th>5</th>\n",
              "      <td>FC00002</td>\n",
              "      <td>WH00002</td>\n",
              "      <td>0.8</td>\n",
              "    </tr>\n",
              "    <tr>\n",
              "      <th>6</th>\n",
              "      <td>FC00002</td>\n",
              "      <td>WH00003</td>\n",
              "      <td>1.6</td>\n",
              "    </tr>\n",
              "    <tr>\n",
              "      <th>7</th>\n",
              "      <td>FC00003</td>\n",
              "      <td>WH00001</td>\n",
              "      <td>1.2</td>\n",
              "    </tr>\n",
              "    <tr>\n",
              "      <th>8</th>\n",
              "      <td>FC00003</td>\n",
              "      <td>WH00002</td>\n",
              "      <td>1.3</td>\n",
              "    </tr>\n",
              "    <tr>\n",
              "      <th>9</th>\n",
              "      <td>FC00003</td>\n",
              "      <td>WH00003</td>\n",
              "      <td>1.5</td>\n",
              "    </tr>\n",
              "    <tr>\n",
              "      <th>10</th>\n",
              "      <td>FC00004</td>\n",
              "      <td>WH00001</td>\n",
              "      <td>0.8</td>\n",
              "    </tr>\n",
              "    <tr>\n",
              "      <th>11</th>\n",
              "      <td>FC00004</td>\n",
              "      <td>WH00002</td>\n",
              "      <td>1.0</td>\n",
              "    </tr>\n",
              "    <tr>\n",
              "      <th>12</th>\n",
              "      <td>FC00004</td>\n",
              "      <td>WH00003</td>\n",
              "      <td>1.1</td>\n",
              "    </tr>\n",
              "    <tr>\n",
              "      <th>13</th>\n",
              "      <td>FC00005</td>\n",
              "      <td>WH00004</td>\n",
              "      <td>0.8</td>\n",
              "    </tr>\n",
              "    <tr>\n",
              "      <th>14</th>\n",
              "      <td>FC00005</td>\n",
              "      <td>WH00005</td>\n",
              "      <td>0.3</td>\n",
              "    </tr>\n",
              "    <tr>\n",
              "      <th>15</th>\n",
              "      <td>FC00005</td>\n",
              "      <td>WH00006</td>\n",
              "      <td>1.4</td>\n",
              "    </tr>\n",
              "    <tr>\n",
              "      <th>16</th>\n",
              "      <td>FC00006</td>\n",
              "      <td>WH00004</td>\n",
              "      <td>0.9</td>\n",
              "    </tr>\n",
              "    <tr>\n",
              "      <th>17</th>\n",
              "      <td>FC00006</td>\n",
              "      <td>WH00005</td>\n",
              "      <td>1.1</td>\n",
              "    </tr>\n",
              "    <tr>\n",
              "      <th>18</th>\n",
              "      <td>FC00006</td>\n",
              "      <td>WH00006</td>\n",
              "      <td>0.7</td>\n",
              "    </tr>\n",
              "    <tr>\n",
              "      <th>19</th>\n",
              "      <td>FC00007</td>\n",
              "      <td>WH00004</td>\n",
              "      <td>0.9</td>\n",
              "    </tr>\n",
              "    <tr>\n",
              "      <th>20</th>\n",
              "      <td>FC00007</td>\n",
              "      <td>WH00005</td>\n",
              "      <td>1.2</td>\n",
              "    </tr>\n",
              "    <tr>\n",
              "      <th>21</th>\n",
              "      <td>FC00007</td>\n",
              "      <td>WH00006</td>\n",
              "      <td>1.3</td>\n",
              "    </tr>\n",
              "    <tr>\n",
              "      <th>22</th>\n",
              "      <td>FC00008</td>\n",
              "      <td>WH00004</td>\n",
              "      <td>1.5</td>\n",
              "    </tr>\n",
              "    <tr>\n",
              "      <th>23</th>\n",
              "      <td>FC00008</td>\n",
              "      <td>WH00005</td>\n",
              "      <td>1.2</td>\n",
              "    </tr>\n",
              "    <tr>\n",
              "      <th>24</th>\n",
              "      <td>FC00008</td>\n",
              "      <td>WH00006</td>\n",
              "      <td>1.3</td>\n",
              "    </tr>\n",
              "  </tbody>\n",
              "</table>\n",
              "</div>"
            ],
            "text/plain": [
              "            FCID     WHID  Cost\n",
              "RCostID                        \n",
              "1        FC00001  WH00001   0.4\n",
              "2        FC00001  WH00002   0.8\n",
              "3        FC00001  WH00003   1.5\n",
              "4        FC00002  WH00001   0.9\n",
              "5        FC00002  WH00002   0.8\n",
              "6        FC00002  WH00003   1.6\n",
              "7        FC00003  WH00001   1.2\n",
              "8        FC00003  WH00002   1.3\n",
              "9        FC00003  WH00003   1.5\n",
              "10       FC00004  WH00001   0.8\n",
              "11       FC00004  WH00002   1.0\n",
              "12       FC00004  WH00003   1.1\n",
              "13       FC00005  WH00004   0.8\n",
              "14       FC00005  WH00005   0.3\n",
              "15       FC00005  WH00006   1.4\n",
              "16       FC00006  WH00004   0.9\n",
              "17       FC00006  WH00005   1.1\n",
              "18       FC00006  WH00006   0.7\n",
              "19       FC00007  WH00004   0.9\n",
              "20       FC00007  WH00005   1.2\n",
              "21       FC00007  WH00006   1.3\n",
              "22       FC00008  WH00004   1.5\n",
              "23       FC00008  WH00005   1.2\n",
              "24       FC00008  WH00006   1.3"
            ]
          },
          "metadata": {
            "tags": []
          },
          "execution_count": 5
        }
      ]
    },
    {
      "cell_type": "code",
      "metadata": {
        "id": "9QhSEWqFy9Fx",
        "colab_type": "code",
        "colab": {
          "base_uri": "https://localhost:8080/",
          "height": 431
        },
        "outputId": "eb5ad117-2d75-49c0-b9ff-e77d8e916ecf"
      },
      "source": [
        "trans = pd.read_csv(\"tbl_transaction.csv\", index_col=0)\n",
        "trans "
      ],
      "execution_count": 6,
      "outputs": [
        {
          "output_type": "execute_result",
          "data": {
            "text/html": [
              "<div>\n",
              "<style scoped>\n",
              "    .dataframe tbody tr th:only-of-type {\n",
              "        vertical-align: middle;\n",
              "    }\n",
              "\n",
              "    .dataframe tbody tr th {\n",
              "        vertical-align: top;\n",
              "    }\n",
              "\n",
              "    .dataframe thead th {\n",
              "        text-align: right;\n",
              "    }\n",
              "</style>\n",
              "<table border=\"1\" class=\"dataframe\">\n",
              "  <thead>\n",
              "    <tr style=\"text-align: right;\">\n",
              "      <th></th>\n",
              "      <th>TransactionDate</th>\n",
              "      <th>ToFC</th>\n",
              "      <th>FromWH</th>\n",
              "      <th>Quantity</th>\n",
              "    </tr>\n",
              "    <tr>\n",
              "      <th>TRID</th>\n",
              "      <th></th>\n",
              "      <th></th>\n",
              "      <th></th>\n",
              "      <th></th>\n",
              "    </tr>\n",
              "  </thead>\n",
              "  <tbody>\n",
              "    <tr>\n",
              "      <th>0</th>\n",
              "      <td>2019-01-01 02:11:10</td>\n",
              "      <td>FC00004</td>\n",
              "      <td>WH00003</td>\n",
              "      <td>33</td>\n",
              "    </tr>\n",
              "    <tr>\n",
              "      <th>1</th>\n",
              "      <td>2019-01-01 06:12:42</td>\n",
              "      <td>FC00007</td>\n",
              "      <td>WH00006</td>\n",
              "      <td>19</td>\n",
              "    </tr>\n",
              "    <tr>\n",
              "      <th>2</th>\n",
              "      <td>2019-01-01 06:32:32</td>\n",
              "      <td>FC00006</td>\n",
              "      <td>WH00004</td>\n",
              "      <td>31</td>\n",
              "    </tr>\n",
              "    <tr>\n",
              "      <th>3</th>\n",
              "      <td>2019-01-01 07:17:06</td>\n",
              "      <td>FC00002</td>\n",
              "      <td>WH00003</td>\n",
              "      <td>18</td>\n",
              "    </tr>\n",
              "    <tr>\n",
              "      <th>4</th>\n",
              "      <td>2019-01-01 07:52:18</td>\n",
              "      <td>FC00001</td>\n",
              "      <td>WH00002</td>\n",
              "      <td>30</td>\n",
              "    </tr>\n",
              "    <tr>\n",
              "      <th>...</th>\n",
              "      <td>...</td>\n",
              "      <td>...</td>\n",
              "      <td>...</td>\n",
              "      <td>...</td>\n",
              "    </tr>\n",
              "    <tr>\n",
              "      <th>3995</th>\n",
              "      <td>2019-12-31 11:27:51</td>\n",
              "      <td>FC00007</td>\n",
              "      <td>WH00006</td>\n",
              "      <td>29</td>\n",
              "    </tr>\n",
              "    <tr>\n",
              "      <th>3996</th>\n",
              "      <td>2019-12-31 17:10:21</td>\n",
              "      <td>FC00002</td>\n",
              "      <td>WH00003</td>\n",
              "      <td>35</td>\n",
              "    </tr>\n",
              "    <tr>\n",
              "      <th>3997</th>\n",
              "      <td>2019-12-31 19:35:07</td>\n",
              "      <td>FC00003</td>\n",
              "      <td>WH00001</td>\n",
              "      <td>36</td>\n",
              "    </tr>\n",
              "    <tr>\n",
              "      <th>3998</th>\n",
              "      <td>2019-12-31 21:45:07</td>\n",
              "      <td>FC00005</td>\n",
              "      <td>WH00005</td>\n",
              "      <td>34</td>\n",
              "    </tr>\n",
              "    <tr>\n",
              "      <th>3999</th>\n",
              "      <td>2019-12-31 23:19:37</td>\n",
              "      <td>FC00005</td>\n",
              "      <td>WH00005</td>\n",
              "      <td>16</td>\n",
              "    </tr>\n",
              "  </tbody>\n",
              "</table>\n",
              "<p>4000 rows × 4 columns</p>\n",
              "</div>"
            ],
            "text/plain": [
              "          TransactionDate     ToFC   FromWH  Quantity\n",
              "TRID                                                 \n",
              "0     2019-01-01 02:11:10  FC00004  WH00003        33\n",
              "1     2019-01-01 06:12:42  FC00007  WH00006        19\n",
              "2     2019-01-01 06:32:32  FC00006  WH00004        31\n",
              "3     2019-01-01 07:17:06  FC00002  WH00003        18\n",
              "4     2019-01-01 07:52:18  FC00001  WH00002        30\n",
              "...                   ...      ...      ...       ...\n",
              "3995  2019-12-31 11:27:51  FC00007  WH00006        29\n",
              "3996  2019-12-31 17:10:21  FC00002  WH00003        35\n",
              "3997  2019-12-31 19:35:07  FC00003  WH00001        36\n",
              "3998  2019-12-31 21:45:07  FC00005  WH00005        34\n",
              "3999  2019-12-31 23:19:37  FC00005  WH00005        16\n",
              "\n",
              "[4000 rows x 4 columns]"
            ]
          },
          "metadata": {
            "tags": []
          },
          "execution_count": 6
        }
      ]
    },
    {
      "cell_type": "markdown",
      "metadata": {
        "id": "loQ8vbpZzZ2n",
        "colab_type": "text"
      },
      "source": [
        "##４つのテーブルをジョイン"
      ]
    },
    {
      "cell_type": "code",
      "metadata": {
        "id": "lYkAjsHdzd5u",
        "colab_type": "code",
        "colab": {
          "base_uri": "https://localhost:8080/",
          "height": 195
        },
        "outputId": "323616bf-f3df-4260-8ebb-c340d9fe82b4"
      },
      "source": [
        "join_data = pd.merge(trans, cost, left_on=[\"ToFC\",\"FromWH\"], right_on=[\"FCID\",\"WHID\"], how=\"left\")\n",
        "join_data.head()"
      ],
      "execution_count": 8,
      "outputs": [
        {
          "output_type": "execute_result",
          "data": {
            "text/html": [
              "<div>\n",
              "<style scoped>\n",
              "    .dataframe tbody tr th:only-of-type {\n",
              "        vertical-align: middle;\n",
              "    }\n",
              "\n",
              "    .dataframe tbody tr th {\n",
              "        vertical-align: top;\n",
              "    }\n",
              "\n",
              "    .dataframe thead th {\n",
              "        text-align: right;\n",
              "    }\n",
              "</style>\n",
              "<table border=\"1\" class=\"dataframe\">\n",
              "  <thead>\n",
              "    <tr style=\"text-align: right;\">\n",
              "      <th></th>\n",
              "      <th>TransactionDate</th>\n",
              "      <th>ToFC</th>\n",
              "      <th>FromWH</th>\n",
              "      <th>Quantity</th>\n",
              "      <th>FCID</th>\n",
              "      <th>WHID</th>\n",
              "      <th>Cost</th>\n",
              "    </tr>\n",
              "  </thead>\n",
              "  <tbody>\n",
              "    <tr>\n",
              "      <th>0</th>\n",
              "      <td>2019-01-01 02:11:10</td>\n",
              "      <td>FC00004</td>\n",
              "      <td>WH00003</td>\n",
              "      <td>33</td>\n",
              "      <td>FC00004</td>\n",
              "      <td>WH00003</td>\n",
              "      <td>1.1</td>\n",
              "    </tr>\n",
              "    <tr>\n",
              "      <th>1</th>\n",
              "      <td>2019-01-01 06:12:42</td>\n",
              "      <td>FC00007</td>\n",
              "      <td>WH00006</td>\n",
              "      <td>19</td>\n",
              "      <td>FC00007</td>\n",
              "      <td>WH00006</td>\n",
              "      <td>1.3</td>\n",
              "    </tr>\n",
              "    <tr>\n",
              "      <th>2</th>\n",
              "      <td>2019-01-01 06:32:32</td>\n",
              "      <td>FC00006</td>\n",
              "      <td>WH00004</td>\n",
              "      <td>31</td>\n",
              "      <td>FC00006</td>\n",
              "      <td>WH00004</td>\n",
              "      <td>0.9</td>\n",
              "    </tr>\n",
              "    <tr>\n",
              "      <th>3</th>\n",
              "      <td>2019-01-01 07:17:06</td>\n",
              "      <td>FC00002</td>\n",
              "      <td>WH00003</td>\n",
              "      <td>18</td>\n",
              "      <td>FC00002</td>\n",
              "      <td>WH00003</td>\n",
              "      <td>1.6</td>\n",
              "    </tr>\n",
              "    <tr>\n",
              "      <th>4</th>\n",
              "      <td>2019-01-01 07:52:18</td>\n",
              "      <td>FC00001</td>\n",
              "      <td>WH00002</td>\n",
              "      <td>30</td>\n",
              "      <td>FC00001</td>\n",
              "      <td>WH00002</td>\n",
              "      <td>0.8</td>\n",
              "    </tr>\n",
              "  </tbody>\n",
              "</table>\n",
              "</div>"
            ],
            "text/plain": [
              "       TransactionDate     ToFC   FromWH  Quantity     FCID     WHID  Cost\n",
              "0  2019-01-01 02:11:10  FC00004  WH00003        33  FC00004  WH00003   1.1\n",
              "1  2019-01-01 06:12:42  FC00007  WH00006        19  FC00007  WH00006   1.3\n",
              "2  2019-01-01 06:32:32  FC00006  WH00004        31  FC00006  WH00004   0.9\n",
              "3  2019-01-01 07:17:06  FC00002  WH00003        18  FC00002  WH00003   1.6\n",
              "4  2019-01-01 07:52:18  FC00001  WH00002        30  FC00001  WH00002   0.8"
            ]
          },
          "metadata": {
            "tags": []
          },
          "execution_count": 8
        }
      ]
    },
    {
      "cell_type": "code",
      "metadata": {
        "id": "vowYDvnTz8Vh",
        "colab_type": "code",
        "colab": {
          "base_uri": "https://localhost:8080/",
          "height": 299
        },
        "outputId": "2a484ad9-25f6-403a-f499-caa3ddb886c5"
      },
      "source": [
        "join_data = pd.merge(join_data, factories, left_on=\"ToFC\", right_on=\"FCID\", how=\"left\") \n",
        "join_data.head() "
      ],
      "execution_count": 10,
      "outputs": [
        {
          "output_type": "execute_result",
          "data": {
            "text/html": [
              "<div>\n",
              "<style scoped>\n",
              "    .dataframe tbody tr th:only-of-type {\n",
              "        vertical-align: middle;\n",
              "    }\n",
              "\n",
              "    .dataframe tbody tr th {\n",
              "        vertical-align: top;\n",
              "    }\n",
              "\n",
              "    .dataframe thead th {\n",
              "        text-align: right;\n",
              "    }\n",
              "</style>\n",
              "<table border=\"1\" class=\"dataframe\">\n",
              "  <thead>\n",
              "    <tr style=\"text-align: right;\">\n",
              "      <th></th>\n",
              "      <th>TransactionDate</th>\n",
              "      <th>ToFC</th>\n",
              "      <th>FromWH</th>\n",
              "      <th>Quantity</th>\n",
              "      <th>FCID</th>\n",
              "      <th>WHID</th>\n",
              "      <th>Cost</th>\n",
              "      <th>FCName_x</th>\n",
              "      <th>FCDemand_x</th>\n",
              "      <th>FCRegion_x</th>\n",
              "      <th>FCName_y</th>\n",
              "      <th>FCDemand_y</th>\n",
              "      <th>FCRegion_y</th>\n",
              "    </tr>\n",
              "  </thead>\n",
              "  <tbody>\n",
              "    <tr>\n",
              "      <th>0</th>\n",
              "      <td>2019-01-01 02:11:10</td>\n",
              "      <td>FC00004</td>\n",
              "      <td>WH00003</td>\n",
              "      <td>33</td>\n",
              "      <td>FC00004</td>\n",
              "      <td>WH00003</td>\n",
              "      <td>1.1</td>\n",
              "      <td>横須賀工場</td>\n",
              "      <td>25</td>\n",
              "      <td>関東</td>\n",
              "      <td>横須賀工場</td>\n",
              "      <td>25</td>\n",
              "      <td>関東</td>\n",
              "    </tr>\n",
              "    <tr>\n",
              "      <th>1</th>\n",
              "      <td>2019-01-01 06:12:42</td>\n",
              "      <td>FC00007</td>\n",
              "      <td>WH00006</td>\n",
              "      <td>19</td>\n",
              "      <td>FC00007</td>\n",
              "      <td>WH00006</td>\n",
              "      <td>1.3</td>\n",
              "      <td>那須工場</td>\n",
              "      <td>25</td>\n",
              "      <td>東北</td>\n",
              "      <td>那須工場</td>\n",
              "      <td>25</td>\n",
              "      <td>東北</td>\n",
              "    </tr>\n",
              "    <tr>\n",
              "      <th>2</th>\n",
              "      <td>2019-01-01 06:32:32</td>\n",
              "      <td>FC00006</td>\n",
              "      <td>WH00004</td>\n",
              "      <td>31</td>\n",
              "      <td>FC00006</td>\n",
              "      <td>WH00004</td>\n",
              "      <td>0.9</td>\n",
              "      <td>山形工場</td>\n",
              "      <td>30</td>\n",
              "      <td>東北</td>\n",
              "      <td>山形工場</td>\n",
              "      <td>30</td>\n",
              "      <td>東北</td>\n",
              "    </tr>\n",
              "    <tr>\n",
              "      <th>3</th>\n",
              "      <td>2019-01-01 07:17:06</td>\n",
              "      <td>FC00002</td>\n",
              "      <td>WH00003</td>\n",
              "      <td>18</td>\n",
              "      <td>FC00002</td>\n",
              "      <td>WH00003</td>\n",
              "      <td>1.6</td>\n",
              "      <td>木更津工場</td>\n",
              "      <td>29</td>\n",
              "      <td>関東</td>\n",
              "      <td>木更津工場</td>\n",
              "      <td>29</td>\n",
              "      <td>関東</td>\n",
              "    </tr>\n",
              "    <tr>\n",
              "      <th>4</th>\n",
              "      <td>2019-01-01 07:52:18</td>\n",
              "      <td>FC00001</td>\n",
              "      <td>WH00002</td>\n",
              "      <td>30</td>\n",
              "      <td>FC00001</td>\n",
              "      <td>WH00002</td>\n",
              "      <td>0.8</td>\n",
              "      <td>東京工場</td>\n",
              "      <td>28</td>\n",
              "      <td>関東</td>\n",
              "      <td>東京工場</td>\n",
              "      <td>28</td>\n",
              "      <td>関東</td>\n",
              "    </tr>\n",
              "  </tbody>\n",
              "</table>\n",
              "</div>"
            ],
            "text/plain": [
              "       TransactionDate     ToFC   FromWH  ...  FCName_y FCDemand_y FCRegion_y\n",
              "0  2019-01-01 02:11:10  FC00004  WH00003  ...     横須賀工場         25         関東\n",
              "1  2019-01-01 06:12:42  FC00007  WH00006  ...      那須工場         25         東北\n",
              "2  2019-01-01 06:32:32  FC00006  WH00004  ...      山形工場         30         東北\n",
              "3  2019-01-01 07:17:06  FC00002  WH00003  ...     木更津工場         29         関東\n",
              "4  2019-01-01 07:52:18  FC00001  WH00002  ...      東京工場         28         関東\n",
              "\n",
              "[5 rows x 13 columns]"
            ]
          },
          "metadata": {
            "tags": []
          },
          "execution_count": 10
        }
      ]
    },
    {
      "cell_type": "code",
      "metadata": {
        "id": "S_5f3rqR0eUE",
        "colab_type": "code",
        "colab": {
          "base_uri": "https://localhost:8080/",
          "height": 195
        },
        "outputId": "80cbc524-ac5f-4a5d-be02-8117dfb39446"
      },
      "source": [
        "join_data = pd.merge(join_data, warehouses, left_on=\"FromWH\", right_on=\"WHID\", how=\"left\")\n",
        "join_data = join_data[[\"TransactionDate\",\"Quantity\",\"Cost\",\"ToFC\",\"FCName_x\",\"FCDemand_x\",\"FromWH\",\"WHName_x\",\"WHSupply_x\",\"WHRegion_x\"]]\n",
        "join_data.head()"
      ],
      "execution_count": 13,
      "outputs": [
        {
          "output_type": "execute_result",
          "data": {
            "text/html": [
              "<div>\n",
              "<style scoped>\n",
              "    .dataframe tbody tr th:only-of-type {\n",
              "        vertical-align: middle;\n",
              "    }\n",
              "\n",
              "    .dataframe tbody tr th {\n",
              "        vertical-align: top;\n",
              "    }\n",
              "\n",
              "    .dataframe thead th {\n",
              "        text-align: right;\n",
              "    }\n",
              "</style>\n",
              "<table border=\"1\" class=\"dataframe\">\n",
              "  <thead>\n",
              "    <tr style=\"text-align: right;\">\n",
              "      <th></th>\n",
              "      <th>TransactionDate</th>\n",
              "      <th>Quantity</th>\n",
              "      <th>Cost</th>\n",
              "      <th>ToFC</th>\n",
              "      <th>FCName_x</th>\n",
              "      <th>FCDemand_x</th>\n",
              "      <th>FromWH</th>\n",
              "      <th>WHName_x</th>\n",
              "      <th>WHSupply_x</th>\n",
              "      <th>WHRegion_x</th>\n",
              "    </tr>\n",
              "  </thead>\n",
              "  <tbody>\n",
              "    <tr>\n",
              "      <th>0</th>\n",
              "      <td>2019-01-01 02:11:10</td>\n",
              "      <td>33</td>\n",
              "      <td>1.1</td>\n",
              "      <td>FC00004</td>\n",
              "      <td>横須賀工場</td>\n",
              "      <td>25</td>\n",
              "      <td>WH00003</td>\n",
              "      <td>豊洲倉庫</td>\n",
              "      <td>42</td>\n",
              "      <td>関東</td>\n",
              "    </tr>\n",
              "    <tr>\n",
              "      <th>1</th>\n",
              "      <td>2019-01-01 06:12:42</td>\n",
              "      <td>19</td>\n",
              "      <td>1.3</td>\n",
              "      <td>FC00007</td>\n",
              "      <td>那須工場</td>\n",
              "      <td>25</td>\n",
              "      <td>WH00006</td>\n",
              "      <td>山形倉庫</td>\n",
              "      <td>65</td>\n",
              "      <td>東北</td>\n",
              "    </tr>\n",
              "    <tr>\n",
              "      <th>2</th>\n",
              "      <td>2019-01-01 06:32:32</td>\n",
              "      <td>31</td>\n",
              "      <td>0.9</td>\n",
              "      <td>FC00006</td>\n",
              "      <td>山形工場</td>\n",
              "      <td>30</td>\n",
              "      <td>WH00004</td>\n",
              "      <td>郡山倉庫</td>\n",
              "      <td>60</td>\n",
              "      <td>東北</td>\n",
              "    </tr>\n",
              "    <tr>\n",
              "      <th>3</th>\n",
              "      <td>2019-01-01 07:17:06</td>\n",
              "      <td>18</td>\n",
              "      <td>1.6</td>\n",
              "      <td>FC00002</td>\n",
              "      <td>木更津工場</td>\n",
              "      <td>29</td>\n",
              "      <td>WH00003</td>\n",
              "      <td>豊洲倉庫</td>\n",
              "      <td>42</td>\n",
              "      <td>関東</td>\n",
              "    </tr>\n",
              "    <tr>\n",
              "      <th>4</th>\n",
              "      <td>2019-01-01 07:52:18</td>\n",
              "      <td>30</td>\n",
              "      <td>0.8</td>\n",
              "      <td>FC00001</td>\n",
              "      <td>東京工場</td>\n",
              "      <td>28</td>\n",
              "      <td>WH00002</td>\n",
              "      <td>品川倉庫</td>\n",
              "      <td>41</td>\n",
              "      <td>関東</td>\n",
              "    </tr>\n",
              "  </tbody>\n",
              "</table>\n",
              "</div>"
            ],
            "text/plain": [
              "       TransactionDate  Quantity  Cost  ... WHName_x WHSupply_x  WHRegion_x\n",
              "0  2019-01-01 02:11:10        33   1.1  ...     豊洲倉庫         42          関東\n",
              "1  2019-01-01 06:12:42        19   1.3  ...     山形倉庫         65          東北\n",
              "2  2019-01-01 06:32:32        31   0.9  ...     郡山倉庫         60          東北\n",
              "3  2019-01-01 07:17:06        18   1.6  ...     豊洲倉庫         42          関東\n",
              "4  2019-01-01 07:52:18        30   0.8  ...     品川倉庫         41          関東\n",
              "\n",
              "[5 rows x 10 columns]"
            ]
          },
          "metadata": {
            "tags": []
          },
          "execution_count": 13
        }
      ]
    },
    {
      "cell_type": "markdown",
      "metadata": {
        "id": "KYt1QK7J21hy",
        "colab_type": "text"
      },
      "source": [
        "関東支社と東北支社のデータを比較"
      ]
    },
    {
      "cell_type": "code",
      "metadata": {
        "id": "ag5qjivD25aj",
        "colab_type": "code",
        "colab": {
          "base_uri": "https://localhost:8080/",
          "height": 195
        },
        "outputId": "fdc00ecc-8ae2-4299-b4cc-02f3696ec307"
      },
      "source": [
        "kanto = join_data.loc[join_data[\"WHRegion_x\"]==\"関東\"]\n",
        "kanto.head()"
      ],
      "execution_count": 15,
      "outputs": [
        {
          "output_type": "execute_result",
          "data": {
            "text/html": [
              "<div>\n",
              "<style scoped>\n",
              "    .dataframe tbody tr th:only-of-type {\n",
              "        vertical-align: middle;\n",
              "    }\n",
              "\n",
              "    .dataframe tbody tr th {\n",
              "        vertical-align: top;\n",
              "    }\n",
              "\n",
              "    .dataframe thead th {\n",
              "        text-align: right;\n",
              "    }\n",
              "</style>\n",
              "<table border=\"1\" class=\"dataframe\">\n",
              "  <thead>\n",
              "    <tr style=\"text-align: right;\">\n",
              "      <th></th>\n",
              "      <th>TransactionDate</th>\n",
              "      <th>Quantity</th>\n",
              "      <th>Cost</th>\n",
              "      <th>ToFC</th>\n",
              "      <th>FCName_x</th>\n",
              "      <th>FCDemand_x</th>\n",
              "      <th>FromWH</th>\n",
              "      <th>WHName_x</th>\n",
              "      <th>WHSupply_x</th>\n",
              "      <th>WHRegion_x</th>\n",
              "    </tr>\n",
              "  </thead>\n",
              "  <tbody>\n",
              "    <tr>\n",
              "      <th>0</th>\n",
              "      <td>2019-01-01 02:11:10</td>\n",
              "      <td>33</td>\n",
              "      <td>1.1</td>\n",
              "      <td>FC00004</td>\n",
              "      <td>横須賀工場</td>\n",
              "      <td>25</td>\n",
              "      <td>WH00003</td>\n",
              "      <td>豊洲倉庫</td>\n",
              "      <td>42</td>\n",
              "      <td>関東</td>\n",
              "    </tr>\n",
              "    <tr>\n",
              "      <th>3</th>\n",
              "      <td>2019-01-01 07:17:06</td>\n",
              "      <td>18</td>\n",
              "      <td>1.6</td>\n",
              "      <td>FC00002</td>\n",
              "      <td>木更津工場</td>\n",
              "      <td>29</td>\n",
              "      <td>WH00003</td>\n",
              "      <td>豊洲倉庫</td>\n",
              "      <td>42</td>\n",
              "      <td>関東</td>\n",
              "    </tr>\n",
              "    <tr>\n",
              "      <th>4</th>\n",
              "      <td>2019-01-01 07:52:18</td>\n",
              "      <td>30</td>\n",
              "      <td>0.8</td>\n",
              "      <td>FC00001</td>\n",
              "      <td>東京工場</td>\n",
              "      <td>28</td>\n",
              "      <td>WH00002</td>\n",
              "      <td>品川倉庫</td>\n",
              "      <td>41</td>\n",
              "      <td>関東</td>\n",
              "    </tr>\n",
              "    <tr>\n",
              "      <th>7</th>\n",
              "      <td>2019-01-01 09:09:30</td>\n",
              "      <td>12</td>\n",
              "      <td>1.5</td>\n",
              "      <td>FC00001</td>\n",
              "      <td>東京工場</td>\n",
              "      <td>28</td>\n",
              "      <td>WH00003</td>\n",
              "      <td>豊洲倉庫</td>\n",
              "      <td>42</td>\n",
              "      <td>関東</td>\n",
              "    </tr>\n",
              "    <tr>\n",
              "      <th>8</th>\n",
              "      <td>2019-01-01 10:52:55</td>\n",
              "      <td>27</td>\n",
              "      <td>1.5</td>\n",
              "      <td>FC00003</td>\n",
              "      <td>多摩工場</td>\n",
              "      <td>31</td>\n",
              "      <td>WH00003</td>\n",
              "      <td>豊洲倉庫</td>\n",
              "      <td>42</td>\n",
              "      <td>関東</td>\n",
              "    </tr>\n",
              "  </tbody>\n",
              "</table>\n",
              "</div>"
            ],
            "text/plain": [
              "       TransactionDate  Quantity  Cost  ... WHName_x WHSupply_x  WHRegion_x\n",
              "0  2019-01-01 02:11:10        33   1.1  ...     豊洲倉庫         42          関東\n",
              "3  2019-01-01 07:17:06        18   1.6  ...     豊洲倉庫         42          関東\n",
              "4  2019-01-01 07:52:18        30   0.8  ...     品川倉庫         41          関東\n",
              "7  2019-01-01 09:09:30        12   1.5  ...     豊洲倉庫         42          関東\n",
              "8  2019-01-01 10:52:55        27   1.5  ...     豊洲倉庫         42          関東\n",
              "\n",
              "[5 rows x 10 columns]"
            ]
          },
          "metadata": {
            "tags": []
          },
          "execution_count": 15
        }
      ]
    },
    {
      "cell_type": "code",
      "metadata": {
        "id": "w089VZ5s3JBN",
        "colab_type": "code",
        "colab": {
          "base_uri": "https://localhost:8080/",
          "height": 195
        },
        "outputId": "9e7036c1-1e69-4604-f34e-a27d445e386d"
      },
      "source": [
        "tohoku = join_data.loc[join_data[\"WHRegion_x\"]==\"東北\"]\n",
        "tohoku.head()"
      ],
      "execution_count": 16,
      "outputs": [
        {
          "output_type": "execute_result",
          "data": {
            "text/html": [
              "<div>\n",
              "<style scoped>\n",
              "    .dataframe tbody tr th:only-of-type {\n",
              "        vertical-align: middle;\n",
              "    }\n",
              "\n",
              "    .dataframe tbody tr th {\n",
              "        vertical-align: top;\n",
              "    }\n",
              "\n",
              "    .dataframe thead th {\n",
              "        text-align: right;\n",
              "    }\n",
              "</style>\n",
              "<table border=\"1\" class=\"dataframe\">\n",
              "  <thead>\n",
              "    <tr style=\"text-align: right;\">\n",
              "      <th></th>\n",
              "      <th>TransactionDate</th>\n",
              "      <th>Quantity</th>\n",
              "      <th>Cost</th>\n",
              "      <th>ToFC</th>\n",
              "      <th>FCName_x</th>\n",
              "      <th>FCDemand_x</th>\n",
              "      <th>FromWH</th>\n",
              "      <th>WHName_x</th>\n",
              "      <th>WHSupply_x</th>\n",
              "      <th>WHRegion_x</th>\n",
              "    </tr>\n",
              "  </thead>\n",
              "  <tbody>\n",
              "    <tr>\n",
              "      <th>1</th>\n",
              "      <td>2019-01-01 06:12:42</td>\n",
              "      <td>19</td>\n",
              "      <td>1.3</td>\n",
              "      <td>FC00007</td>\n",
              "      <td>那須工場</td>\n",
              "      <td>25</td>\n",
              "      <td>WH00006</td>\n",
              "      <td>山形倉庫</td>\n",
              "      <td>65</td>\n",
              "      <td>東北</td>\n",
              "    </tr>\n",
              "    <tr>\n",
              "      <th>2</th>\n",
              "      <td>2019-01-01 06:32:32</td>\n",
              "      <td>31</td>\n",
              "      <td>0.9</td>\n",
              "      <td>FC00006</td>\n",
              "      <td>山形工場</td>\n",
              "      <td>30</td>\n",
              "      <td>WH00004</td>\n",
              "      <td>郡山倉庫</td>\n",
              "      <td>60</td>\n",
              "      <td>東北</td>\n",
              "    </tr>\n",
              "    <tr>\n",
              "      <th>5</th>\n",
              "      <td>2019-01-01 08:56:09</td>\n",
              "      <td>31</td>\n",
              "      <td>0.3</td>\n",
              "      <td>FC00005</td>\n",
              "      <td>仙台工場</td>\n",
              "      <td>21</td>\n",
              "      <td>WH00005</td>\n",
              "      <td>仙台倉庫</td>\n",
              "      <td>72</td>\n",
              "      <td>東北</td>\n",
              "    </tr>\n",
              "    <tr>\n",
              "      <th>6</th>\n",
              "      <td>2019-01-01 09:00:15</td>\n",
              "      <td>33</td>\n",
              "      <td>0.7</td>\n",
              "      <td>FC00006</td>\n",
              "      <td>山形工場</td>\n",
              "      <td>30</td>\n",
              "      <td>WH00006</td>\n",
              "      <td>山形倉庫</td>\n",
              "      <td>65</td>\n",
              "      <td>東北</td>\n",
              "    </tr>\n",
              "    <tr>\n",
              "      <th>9</th>\n",
              "      <td>2019-01-01 14:12:51</td>\n",
              "      <td>21</td>\n",
              "      <td>0.7</td>\n",
              "      <td>FC00006</td>\n",
              "      <td>山形工場</td>\n",
              "      <td>30</td>\n",
              "      <td>WH00006</td>\n",
              "      <td>山形倉庫</td>\n",
              "      <td>65</td>\n",
              "      <td>東北</td>\n",
              "    </tr>\n",
              "  </tbody>\n",
              "</table>\n",
              "</div>"
            ],
            "text/plain": [
              "       TransactionDate  Quantity  Cost  ... WHName_x WHSupply_x  WHRegion_x\n",
              "1  2019-01-01 06:12:42        19   1.3  ...     山形倉庫         65          東北\n",
              "2  2019-01-01 06:32:32        31   0.9  ...     郡山倉庫         60          東北\n",
              "5  2019-01-01 08:56:09        31   0.3  ...     仙台倉庫         72          東北\n",
              "6  2019-01-01 09:00:15        33   0.7  ...     山形倉庫         65          東北\n",
              "9  2019-01-01 14:12:51        21   0.7  ...     山形倉庫         65          東北\n",
              "\n",
              "[5 rows x 10 columns]"
            ]
          },
          "metadata": {
            "tags": []
          },
          "execution_count": 16
        }
      ]
    },
    {
      "cell_type": "markdown",
      "metadata": {
        "id": "asxORdE-3oH4",
        "colab_type": "text"
      },
      "source": [
        "##現状の輸送量、コストを確認"
      ]
    },
    {
      "cell_type": "code",
      "metadata": {
        "id": "kY8LHkaO3rUS",
        "colab_type": "code",
        "colab": {
          "base_uri": "https://localhost:8080/",
          "height": 52
        },
        "outputId": "51c344bc-edc8-4596-c419-f9f48f045bff"
      },
      "source": [
        "print(\"関東支社の総コスト：\" + str(kanto[\"Cost\"].sum()) + \"万円\")\n",
        "print(\"東北支社の総コスト：\" + str(tohoku[\"Cost\"].sum()) + \"万円\")"
      ],
      "execution_count": 17,
      "outputs": [
        {
          "output_type": "stream",
          "text": [
            "関東支社の総コスト：2189.3万円\n",
            "東北支社の総コスト：2062.0万円\n"
          ],
          "name": "stdout"
        }
      ]
    },
    {
      "cell_type": "code",
      "metadata": {
        "id": "XBYo06VB5kXH",
        "colab_type": "code",
        "colab": {
          "base_uri": "https://localhost:8080/",
          "height": 52
        },
        "outputId": "2475fed4-1db3-4fb6-dc66-f4d349c602c4"
      },
      "source": [
        "print(\"関東支社の総部品輸送個数：\" + str(kanto[\"Quantity\"].sum()) + \"個\")\n",
        "print(\"東北支社の総部品輸送個数：\" + str(tohoku[\"Quantity\"].sum()) + \"個\")"
      ],
      "execution_count": 19,
      "outputs": [
        {
          "output_type": "stream",
          "text": [
            "関東支社の総部品輸送個数：49146個\n",
            "東北支社の総部品輸送個数：50214個\n"
          ],
          "name": "stdout"
        }
      ]
    },
    {
      "cell_type": "code",
      "metadata": {
        "id": "LgOxy-gO6xf8",
        "colab_type": "code",
        "colab": {
          "base_uri": "https://localhost:8080/",
          "height": 52
        },
        "outputId": "61cf0b8e-aaab-48b1-ec42-9b596f1af3f0"
      },
      "source": [
        "tmp = (kanto[\"Cost\"].sum() / kanto[\"Quantity\"].sum()) * 10000\n",
        "print(\"関東支社の部品１つあたりの輸送コスト：\" + str(int(tmp)) + \"円\")\n",
        "tmp = (tohoku[\"Cost\"].sum() / tohoku[\"Quantity\"].sum()) * 10000\n",
        "print(\"東北支社の部品１つあたりの輸送コスト：\" + str(int(tmp)) + \"円\")\n"
      ],
      "execution_count": 20,
      "outputs": [
        {
          "output_type": "stream",
          "text": [
            "関東支社の部品１つあたりの輸送コスト：445円\n",
            "東北支社の部品１つあたりの輸送コスト：410円\n"
          ],
          "name": "stdout"
        }
      ]
    },
    {
      "cell_type": "code",
      "metadata": {
        "id": "vbayOrbw7j5I",
        "colab_type": "code",
        "colab": {
          "base_uri": "https://localhost:8080/",
          "height": 52
        },
        "outputId": "c100ea89-a2c4-4a46-ef3d-fb3276ef6215"
      },
      "source": [
        "cost_chk = pd.merge(cost, factories, on=\"FCID\", how=\"left\")\n",
        "print(\"東京支社の平均輸送コスト：\" + str(cost_chk[\"Cost\"].loc[cost_chk[\"FCRegion\"]==\"関東\"].mean()) + \"万円\")\n",
        "print(\"東北支社の平均輸送コスト：\" + str(cost_chk[\"Cost\"].loc[cost_chk[\"FCRegion\"]==\"東北\"].mean()) + \"万円\")"
      ],
      "execution_count": 21,
      "outputs": [
        {
          "output_type": "stream",
          "text": [
            "東京支社の平均輸送コスト：1.075万円\n",
            "東北支社の平均輸送コスト：1.05万円\n"
          ],
          "name": "stdout"
        }
      ]
    },
    {
      "cell_type": "markdown",
      "metadata": {
        "id": "1mQLSnbc8sO7",
        "colab_type": "text"
      },
      "source": [
        "##ネットワークを可視化"
      ]
    },
    {
      "cell_type": "code",
      "metadata": {
        "id": "EoyrB7IP8mUF",
        "colab_type": "code",
        "colab": {
          "base_uri": "https://localhost:8080/",
          "height": 319
        },
        "outputId": "131f98b5-964a-4c67-f737-ddc17922f79e"
      },
      "source": [
        "import networkx as nx\n",
        "import matplotlib.pyplot as plt\n",
        "\n",
        "G=nx.Graph()\n",
        "\n",
        "G.add_node(\"nodeA\")\n",
        "G.add_node(\"nodeB\")\n",
        "G.add_node(\"nodeC\")\n",
        "\n",
        "G.add_edge(\"nodeA\",\"nodeB\")\n",
        "G.add_edge(\"nodeA\",\"nodeC\")\n",
        "G.add_edge(\"nodeB\",\"nodeC\")\n",
        "\n",
        "pos={}\n",
        "pos[\"nodeA\"]=(0,0)\n",
        "pos[\"nodeB\"]=(1,1)\n",
        "pos[\"nodeC\"]=(0,1)\n",
        "\n",
        "nx.draw(G,pos)\n",
        "\n",
        "plt.show()"
      ],
      "execution_count": 23,
      "outputs": [
        {
          "output_type": "display_data",
          "data": {
            "image/png": "[encoded data removed]",
            "text/plain": [
              "<Figure size 432x288 with 1 Axes>"
            ]
          },
          "metadata": {
            "tags": []
          }
        }
      ]
    },
    {
      "cell_type": "markdown",
      "metadata": {
        "id": "KsyfmhgHALFk",
        "colab_type": "text"
      },
      "source": [
        "##ネットワークにノードを追加"
      ]
    },
    {
      "cell_type": "code",
      "metadata": {
        "id": "zsZSRWdd8pit",
        "colab_type": "code",
        "colab": {
          "base_uri": "https://localhost:8080/",
          "height": 319
        },
        "outputId": "26756812-073c-4a4c-9418-b47ee007ab00"
      },
      "source": [
        "G.add_node(\"nodeD\")\n",
        "\n",
        "G.add_edge(\"nodeA\",\"nodeD\")\n",
        "\n",
        "pos[\"nodeD\"]=(1,0)\n",
        "\n",
        "nx.draw(G,pos, with_labels=True)"
      ],
      "execution_count": 24,
      "outputs": [
        {
          "output_type": "display_data",
          "data": {
            "image/png": "[encoded data removed]",
            "text/plain": [
              "<Figure size 432x288 with 1 Axes>"
            ]
          },
          "metadata": {
            "tags": []
          }
        }
      ]
    },
    {
      "cell_type": "markdown",
      "metadata": {
        "id": "bYvSOMGuBiap",
        "colab_type": "text"
      },
      "source": [
        "##ルートの重みづけを実施"
      ]
    },
    {
      "cell_type": "code",
      "metadata": {
        "id": "TWfsOi0OBlYY",
        "colab_type": "code",
        "colab": {
          "base_uri": "https://localhost:8080/",
          "height": 319
        },
        "outputId": "13f6ac63-f21e-429f-8d79-3a8bf682fb58"
      },
      "source": [
        "import pandas as pd\n",
        "import numpy as np\n",
        "import matplotlib.pyplot as plt\n",
        "import networkx as nx\n",
        "\n",
        "df_w = pd.read_csv('network_weight.csv')\n",
        "df_p = pd.read_csv('network_pos.csv')\n",
        "\n",
        "size = 10\n",
        "edge_weights = []\n",
        "for i in range(len(df_w)):\n",
        "  for j in range(len(df_w.columns)):\n",
        "    edge_weights.append(df_w.iloc[i][j]*size)\n",
        "\n",
        "G = nx.Graph()\n",
        "\n",
        "for i in range(len(df_w.columns)):\n",
        "  G.add_node(df_w.columns[i])\n",
        "\n",
        "for i in range(len(df_w.columns)):\n",
        "  for j in range(len(df_w.columns)):\n",
        "    G.add_edge(df_w.columns[i],df_w.columns[j])\n",
        "\n",
        "pos = {}\n",
        "for i in range(len(df_w.columns)):\n",
        "  node = df_w.columns[i]\n",
        "  pos[node] = (df_p[node][0],df_p[node][1])\n",
        "\n",
        "nx.draw(G, pos, with_labels=True, font_size=16, node_size=1000, node_color='k',font_color='w', width=edge_weights)\n",
        "\n",
        "plt.show()\n"
      ],
      "execution_count": 25,
      "outputs": [
        {
          "output_type": "display_data",
          "data": {
            "image/png": "[encoded data removed]",
            "text/plain": [
              "<Figure size 432x288 with 1 Axes>"
            ]
          },
          "metadata": {
            "tags": []
          }
        }
      ]
    },
    {
      "cell_type": "code",
      "metadata": {
        "id": "bgWl3M9qD8Sf",
        "colab_type": "code",
        "colab": {
          "base_uri": "https://localhost:8080/",
          "height": 195
        },
        "outputId": "5b2006ef-5eaf-4f89-c8b1-f408bf2d083a"
      },
      "source": [
        "df_w"
      ],
      "execution_count": 28,
      "outputs": [
        {
          "output_type": "execute_result",
          "data": {
            "text/html": [
              "<div>\n",
              "<style scoped>\n",
              "    .dataframe tbody tr th:only-of-type {\n",
              "        vertical-align: middle;\n",
              "    }\n",
              "\n",
              "    .dataframe tbody tr th {\n",
              "        vertical-align: top;\n",
              "    }\n",
              "\n",
              "    .dataframe thead th {\n",
              "        text-align: right;\n",
              "    }\n",
              "</style>\n",
              "<table border=\"1\" class=\"dataframe\">\n",
              "  <thead>\n",
              "    <tr style=\"text-align: right;\">\n",
              "      <th></th>\n",
              "      <th>A</th>\n",
              "      <th>B</th>\n",
              "      <th>C</th>\n",
              "      <th>D</th>\n",
              "      <th>E</th>\n",
              "    </tr>\n",
              "  </thead>\n",
              "  <tbody>\n",
              "    <tr>\n",
              "      <th>0</th>\n",
              "      <td>0.639921</td>\n",
              "      <td>0.143353</td>\n",
              "      <td>0.944669</td>\n",
              "      <td>0.521848</td>\n",
              "      <td>0.000000</td>\n",
              "    </tr>\n",
              "    <tr>\n",
              "      <th>1</th>\n",
              "      <td>0.264556</td>\n",
              "      <td>0.000000</td>\n",
              "      <td>0.456150</td>\n",
              "      <td>0.568434</td>\n",
              "      <td>0.000000</td>\n",
              "    </tr>\n",
              "    <tr>\n",
              "      <th>2</th>\n",
              "      <td>0.617635</td>\n",
              "      <td>0.612096</td>\n",
              "      <td>0.616934</td>\n",
              "      <td>0.943748</td>\n",
              "      <td>0.000000</td>\n",
              "    </tr>\n",
              "    <tr>\n",
              "      <th>3</th>\n",
              "      <td>0.000000</td>\n",
              "      <td>0.000000</td>\n",
              "      <td>0.697631</td>\n",
              "      <td>0.060225</td>\n",
              "      <td>0.666767</td>\n",
              "    </tr>\n",
              "    <tr>\n",
              "      <th>4</th>\n",
              "      <td>0.670638</td>\n",
              "      <td>0.210383</td>\n",
              "      <td>0.000000</td>\n",
              "      <td>0.315428</td>\n",
              "      <td>0.000000</td>\n",
              "    </tr>\n",
              "  </tbody>\n",
              "</table>\n",
              "</div>"
            ],
            "text/plain": [
              "          A         B         C         D         E\n",
              "0  0.639921  0.143353  0.944669  0.521848  0.000000\n",
              "1  0.264556  0.000000  0.456150  0.568434  0.000000\n",
              "2  0.617635  0.612096  0.616934  0.943748  0.000000\n",
              "3  0.000000  0.000000  0.697631  0.060225  0.666767\n",
              "4  0.670638  0.210383  0.000000  0.315428  0.000000"
            ]
          },
          "metadata": {
            "tags": []
          },
          "execution_count": 28
        }
      ]
    },
    {
      "cell_type": "code",
      "metadata": {
        "id": "Y_93-0oAEBuY",
        "colab_type": "code",
        "colab": {
          "base_uri": "https://localhost:8080/",
          "height": 457
        },
        "outputId": "4b7109e1-1f87-4a31-af54-03276d8a9293"
      },
      "source": [
        "edge_weights"
      ],
      "execution_count": 29,
      "outputs": [
        {
          "output_type": "execute_result",
          "data": {
            "text/plain": [
              "[6.39921,\n",
              " 1.4335300000000002,\n",
              " 9.44669,\n",
              " 5.21848,\n",
              " 0.0,\n",
              " 2.64556,\n",
              " 0.0,\n",
              " 4.5615,\n",
              " 5.68434,\n",
              " 0.0,\n",
              " 6.17635,\n",
              " 6.12096,\n",
              " 6.16934,\n",
              " 9.437479999999999,\n",
              " 0.0,\n",
              " 0.0,\n",
              " 0.0,\n",
              " 6.97631,\n",
              " 0.60225,\n",
              " 6.66767,\n",
              " 6.706379999999999,\n",
              " 2.10383,\n",
              " 0.0,\n",
              " 3.1542800000000004,\n",
              " 0.0]"
            ]
          },
          "metadata": {
            "tags": []
          },
          "execution_count": 29
        }
      ]
    },
    {
      "cell_type": "markdown",
      "metadata": {
        "id": "n1j-HcxJEnqq",
        "colab_type": "text"
      },
      "source": [
        "##輸送ルート情報を読み込む"
      ]
    },
    {
      "cell_type": "code",
      "metadata": {
        "id": "1n_AtI7dErLx",
        "colab_type": "code",
        "colab": {
          "base_uri": "https://localhost:8080/",
          "height": 166
        },
        "outputId": "7861802a-26ff-4895-cf3b-d9af9475bcf6"
      },
      "source": [
        "df_tr = pd.read_csv('trans_route.csv', index_col=\"工場\")\n",
        "df_tr.head()"
      ],
      "execution_count": 30,
      "outputs": [
        {
          "output_type": "execute_result",
          "data": {
            "text/html": [
              "<div>\n",
              "<style scoped>\n",
              "    .dataframe tbody tr th:only-of-type {\n",
              "        vertical-align: middle;\n",
              "    }\n",
              "\n",
              "    .dataframe tbody tr th {\n",
              "        vertical-align: top;\n",
              "    }\n",
              "\n",
              "    .dataframe thead th {\n",
              "        text-align: right;\n",
              "    }\n",
              "</style>\n",
              "<table border=\"1\" class=\"dataframe\">\n",
              "  <thead>\n",
              "    <tr style=\"text-align: right;\">\n",
              "      <th></th>\n",
              "      <th>F1</th>\n",
              "      <th>F2</th>\n",
              "      <th>F3</th>\n",
              "      <th>F4</th>\n",
              "    </tr>\n",
              "    <tr>\n",
              "      <th>工場</th>\n",
              "      <th></th>\n",
              "      <th></th>\n",
              "      <th></th>\n",
              "      <th></th>\n",
              "    </tr>\n",
              "  </thead>\n",
              "  <tbody>\n",
              "    <tr>\n",
              "      <th>W1</th>\n",
              "      <td>15</td>\n",
              "      <td>15</td>\n",
              "      <td>0</td>\n",
              "      <td>5</td>\n",
              "    </tr>\n",
              "    <tr>\n",
              "      <th>W2</th>\n",
              "      <td>5</td>\n",
              "      <td>0</td>\n",
              "      <td>30</td>\n",
              "      <td>5</td>\n",
              "    </tr>\n",
              "    <tr>\n",
              "      <th>W3</th>\n",
              "      <td>10</td>\n",
              "      <td>15</td>\n",
              "      <td>2</td>\n",
              "      <td>15</td>\n",
              "    </tr>\n",
              "  </tbody>\n",
              "</table>\n",
              "</div>"
            ],
            "text/plain": [
              "    F1  F2  F3  F4\n",
              "工場                \n",
              "W1  15  15   0   5\n",
              "W2   5   0  30   5\n",
              "W3  10  15   2  15"
            ]
          },
          "metadata": {
            "tags": []
          },
          "execution_count": 30
        }
      ]
    },
    {
      "cell_type": "markdown",
      "metadata": {
        "id": "K_bafcQmFUDq",
        "colab_type": "text"
      },
      "source": [
        "##輸送ルート情報からネットワークを可視化"
      ]
    },
    {
      "cell_type": "code",
      "metadata": {
        "id": "VjoXrpTlFXoE",
        "colab_type": "code",
        "colab": {
          "base_uri": "https://localhost:8080/",
          "height": 319
        },
        "outputId": "538e07b0-7d58-4145-e547-bf3476f0d68d"
      },
      "source": [
        "df_pos = pd.read_csv('trans_route_pos.csv')\n",
        "\n",
        "G = nx.Graph()\n",
        "\n",
        "for i in range(len(df_pos.columns)):\n",
        "  G.add_node(df_pos.columns[i])\n",
        "\n",
        "num_pre = 0\n",
        "edge_weights = []\n",
        "size = 0.1\n",
        "for i in range(len(df_pos.columns)):\n",
        "  for j in range(len(df_pos.columns)):\n",
        "    if not (i==j):\n",
        "      G.add_edge(df_pos.columns[i],df_pos.columns[j])\n",
        "      if num_pre<len(G.edges):\n",
        "        num_pre = len(G.edges)\n",
        "        weight = 0\n",
        "        if (df_pos.columns[i] in df_tr.columns)and(df_pos.columns[i] in df_tr.index):\n",
        "          if df_tr[df_pos.columns[i]][df_pos.columns[j]]:\n",
        "            weight = df_tr[df_pos.columns[i]][df_pos.columns[j]]*size\n",
        "        elif(df_pos.columns[j] in df_tr.columns)and(df_pos.columns[i] in df_tr.index):\n",
        "          if df_tr[df_pos.columns[j]][df_pos.columns[i]]:\n",
        "            weight = df_tr[df_pos.columns[j]][df_pos.columns[i]]*size\n",
        "        edge_weights.append(weight)\n",
        "\n",
        "pos = {}\n",
        "for i in range(len(df_pos.columns)):\n",
        "  node = df_pos.columns[i]\n",
        "  pos[node] = (df_pos[node][0],df_pos[node][1])\n",
        "\n",
        "nx.draw(G, pos, with_labels=True, font_size=16, node_size=1000, node_color='k', font_color='w', width=edge_weights)\n",
        "\n",
        "plt.show()\n"
      ],
      "execution_count": 35,
      "outputs": [
        {
          "output_type": "display_data",
          "data": {
            "image/png": "[encoded data removed]",
            "text/plain": [
              "<Figure size 432x288 with 1 Axes>"
            ]
          },
          "metadata": {
            "tags": []
          }
        }
      ]
    },
    {
      "cell_type": "code",
      "metadata": {
        "id": "xVtPwOtqIyju",
        "colab_type": "code",
        "colab": {
          "base_uri": "https://localhost:8080/",
          "height": 106
        },
        "outputId": "ee0a9fa9-e49d-47a7-9b59-c7fa0b3cb4cc"
      },
      "source": [
        "df_pos"
      ],
      "execution_count": 36,
      "outputs": [
        {
          "output_type": "execute_result",
          "data": {
            "text/html": [
              "<div>\n",
              "<style scoped>\n",
              "    .dataframe tbody tr th:only-of-type {\n",
              "        vertical-align: middle;\n",
              "    }\n",
              "\n",
              "    .dataframe tbody tr th {\n",
              "        vertical-align: top;\n",
              "    }\n",
              "\n",
              "    .dataframe thead th {\n",
              "        text-align: right;\n",
              "    }\n",
              "</style>\n",
              "<table border=\"1\" class=\"dataframe\">\n",
              "  <thead>\n",
              "    <tr style=\"text-align: right;\">\n",
              "      <th></th>\n",
              "      <th>W1</th>\n",
              "      <th>W2</th>\n",
              "      <th>W3</th>\n",
              "      <th>F1</th>\n",
              "      <th>F2</th>\n",
              "      <th>F3</th>\n",
              "      <th>F4</th>\n",
              "    </tr>\n",
              "  </thead>\n",
              "  <tbody>\n",
              "    <tr>\n",
              "      <th>0</th>\n",
              "      <td>0</td>\n",
              "      <td>0</td>\n",
              "      <td>0</td>\n",
              "      <td>4.0</td>\n",
              "      <td>4.0</td>\n",
              "      <td>4.0</td>\n",
              "      <td>4.0</td>\n",
              "    </tr>\n",
              "    <tr>\n",
              "      <th>1</th>\n",
              "      <td>1</td>\n",
              "      <td>2</td>\n",
              "      <td>3</td>\n",
              "      <td>0.5</td>\n",
              "      <td>1.5</td>\n",
              "      <td>2.5</td>\n",
              "      <td>3.5</td>\n",
              "    </tr>\n",
              "  </tbody>\n",
              "</table>\n",
              "</div>"
            ],
            "text/plain": [
              "   W1  W2  W3   F1   F2   F3   F4\n",
              "0   0   0   0  4.0  4.0  4.0  4.0\n",
              "1   1   2   3  0.5  1.5  2.5  3.5"
            ]
          },
          "metadata": {
            "tags": []
          },
          "execution_count": 36
        }
      ]
    },
    {
      "cell_type": "markdown",
      "metadata": {
        "id": "4jDeXq3GJBA9",
        "colab_type": "text"
      },
      "source": [
        "##輸送コスト関数を作成"
      ]
    },
    {
      "cell_type": "code",
      "metadata": {
        "id": "T12btRTLJDSU",
        "colab_type": "code",
        "colab": {
          "base_uri": "https://localhost:8080/",
          "height": 34
        },
        "outputId": "c3b11456-47c6-42cc-bef1-ec5eccb58e5b"
      },
      "source": [
        "df_tc = pd.read_csv('trans_cost.csv', index_col=\"工場\")\n",
        "\n",
        "def trans_cost(df_tr,df_tc):\n",
        "  cost=0\n",
        "  for i in range(len(df_tc.index)):\n",
        "    for j in range(len(df_tr.columns)):\n",
        "      cost+=df_tr.iloc[i][j]*df_tc.iloc[i][j]\n",
        "  return cost\n",
        "\n",
        "print(\"総輸送コスト：\" + str(trans_cost(df_tr,df_tc)))"
      ],
      "execution_count": 37,
      "outputs": [
        {
          "output_type": "stream",
          "text": [
            "総輸送コスト：1493\n"
          ],
          "name": "stdout"
        }
      ]
    },
    {
      "cell_type": "code",
      "metadata": {
        "id": "nYXKystVKHQX",
        "colab_type": "code",
        "colab": {
          "base_uri": "https://localhost:8080/",
          "height": 166
        },
        "outputId": "187d827f-ecd9-4d4d-d5fe-b7b374f01966"
      },
      "source": [
        "df_tc.head()"
      ],
      "execution_count": 38,
      "outputs": [
        {
          "output_type": "execute_result",
          "data": {
            "text/html": [
              "<div>\n",
              "<style scoped>\n",
              "    .dataframe tbody tr th:only-of-type {\n",
              "        vertical-align: middle;\n",
              "    }\n",
              "\n",
              "    .dataframe tbody tr th {\n",
              "        vertical-align: top;\n",
              "    }\n",
              "\n",
              "    .dataframe thead th {\n",
              "        text-align: right;\n",
              "    }\n",
              "</style>\n",
              "<table border=\"1\" class=\"dataframe\">\n",
              "  <thead>\n",
              "    <tr style=\"text-align: right;\">\n",
              "      <th></th>\n",
              "      <th>F1</th>\n",
              "      <th>F2</th>\n",
              "      <th>F3</th>\n",
              "      <th>F4</th>\n",
              "    </tr>\n",
              "    <tr>\n",
              "      <th>工場</th>\n",
              "      <th></th>\n",
              "      <th></th>\n",
              "      <th></th>\n",
              "      <th></th>\n",
              "    </tr>\n",
              "  </thead>\n",
              "  <tbody>\n",
              "    <tr>\n",
              "      <th>W1</th>\n",
              "      <td>10</td>\n",
              "      <td>10</td>\n",
              "      <td>11</td>\n",
              "      <td>27</td>\n",
              "    </tr>\n",
              "    <tr>\n",
              "      <th>W2</th>\n",
              "      <td>18</td>\n",
              "      <td>21</td>\n",
              "      <td>12</td>\n",
              "      <td>14</td>\n",
              "    </tr>\n",
              "    <tr>\n",
              "      <th>W3</th>\n",
              "      <td>15</td>\n",
              "      <td>12</td>\n",
              "      <td>14</td>\n",
              "      <td>12</td>\n",
              "    </tr>\n",
              "  </tbody>\n",
              "</table>\n",
              "</div>"
            ],
            "text/plain": [
              "    F1  F2  F3  F4\n",
              "工場                \n",
              "W1  10  10  11  27\n",
              "W2  18  21  12  14\n",
              "W3  15  12  14  12"
            ]
          },
          "metadata": {
            "tags": []
          },
          "execution_count": 38
        }
      ]
    },
    {
      "cell_type": "markdown",
      "metadata": {
        "id": "nMRmDqLoKdiY",
        "colab_type": "text"
      },
      "source": [
        "##制約条件を作る"
      ]
    },
    {
      "cell_type": "code",
      "metadata": {
        "id": "ybSTStgiKglG",
        "colab_type": "code",
        "colab": {}
      },
      "source": [
        "df_demand = pd.read_csv('demand.csv')\n",
        "df_supply = pd.read_csv('supply.csv')"
      ],
      "execution_count": 0,
      "outputs": []
    },
    {
      "cell_type": "code",
      "metadata": {
        "id": "v-TGgyyzK0Ot",
        "colab_type": "code",
        "colab": {
          "base_uri": "https://localhost:8080/",
          "height": 263
        },
        "outputId": "e466b2c6-6d8e-4c44-87b8-9bd859afbc2f"
      },
      "source": [
        "for i in range(len(df_demand.columns)):\n",
        "  temp_sum = sum(df_tr[df_demand.columns[i]])\n",
        "  print(str(df_demand.columns[i]) + \"への輸送量：\" + str(temp_sum) + \"（需要量：\" + str(df_demand.iloc[0][i]) + \")\")\n",
        "  if temp_sum>df_demand.iloc[0][i]:\n",
        "    print(\"需要量を満たしています\")\n",
        "  else:\n",
        "    print(\"需要量を満たしていません。輸送ルートを再計算してください\")\n",
        "\n",
        "for i in range(len(df_supply.columns)):\n",
        "  temp_sum = sum(df_tr.loc[df_supply.columns[i]])\n",
        "  print(str(df_supply.columns[i]) + \"からの輸送量：\" + str(temp_sum) + \"(供給限界：\" + str(df_supply.iloc[0][i]) + \")\")\n",
        "  if temp_sum<=df_supply.iloc[0][i]:\n",
        "    print(\"供給限界の範囲内です\")\n",
        "  else:\n",
        "    print(\"供給限界を超過しています。輸送ルートを再計算してください。\")\n"
      ],
      "execution_count": 40,
      "outputs": [
        {
          "output_type": "stream",
          "text": [
            "F1への輸送量：30（需要量：28)\n",
            "需要量を満たしています\n",
            "F2への輸送量：30（需要量：29)\n",
            "需要量を満たしています\n",
            "F3への輸送量：32（需要量：31)\n",
            "需要量を満たしています\n",
            "F4への輸送量：25（需要量：25)\n",
            "需要量を満たしていません。輸送ルートを再計算してください\n",
            "W1からの輸送量：35(供給限界：35)\n",
            "供給限界の範囲内です\n",
            "W2からの輸送量：40(供給限界：41)\n",
            "供給限界の範囲内です\n",
            "W3からの輸送量：42(供給限界：42)\n",
            "供給限界の範囲内です\n"
          ],
          "name": "stdout"
        }
      ]
    },
    {
      "cell_type": "markdown",
      "metadata": {
        "id": "pKkKV6JzNDCX",
        "colab_type": "text"
      },
      "source": [
        "##輸送ルートを変更して、輸送コスト関数の変化を確認"
      ]
    },
    {
      "cell_type": "code",
      "metadata": {
        "id": "2TLrEc5vNIdC",
        "colab_type": "code",
        "colab": {
          "base_uri": "https://localhost:8080/",
          "height": 122
        },
        "outputId": "60f14f5e-3987-44bd-b3af-fd28c99dfc26"
      },
      "source": [
        "df_tr_new = pd.read_csv('trans_route_new.csv', index_col=\"工場\")\n",
        "print(df_tr_new)\n",
        "\n",
        "print(\"総輸送コスト(変更後)：\" + str(trans_cost(df_tr_new, df_tc)))"
      ],
      "execution_count": 41,
      "outputs": [
        {
          "output_type": "stream",
          "text": [
            "    F1  F2  F3  F4\n",
            "工場                \n",
            "W1  15  15   0   0\n",
            "W2   5   0  30  10\n",
            "W3  10  15   2  15\n",
            "総輸送コスト(変更後)：1428\n"
          ],
          "name": "stdout"
        }
      ]
    },
    {
      "cell_type": "code",
      "metadata": {
        "id": "dgZNDH5jNj1O",
        "colab_type": "code",
        "colab": {
          "base_uri": "https://localhost:8080/",
          "height": 52
        },
        "outputId": "beb37ee5-593d-4519-c6cf-6bab238d848a"
      },
      "source": [
        "def condition_demand(dr_tr, df_demand):\n",
        "  flag = np.zeros(len(df_demand.columns))\n",
        "  for i in range(len(df_demand.columns)):\n",
        "    temp_sum = sum(df_tr[df_demand.columns[i]])\n",
        "    if (temp_sum>=df_demand.iloc[0][i]):\n",
        "      flag[i] = 1\n",
        "  return flag\n",
        "  \n",
        "def condition_supply(dr_tr, df_supply):\n",
        "  flag = np.zeros(len(df_supply.columns))\n",
        "  for i in range(len(df_supply.columns)):\n",
        "    temp_sum = sum(df_tr.loc[df_supply.columns[i]])\n",
        "    if (temp_sum>=df_supply.iloc[0][i]):\n",
        "      flag[i] = 1\n",
        "  return flag\n",
        "\n",
        "print(\"需要条件計算結果：\" + str(condition_demand(df_tr_new,df_demand)))\n",
        "print(\"供給条件計算結果：\" + str(condition_supply(df_tr_new,df_supply)))"
      ],
      "execution_count": 46,
      "outputs": [
        {
          "output_type": "stream",
          "text": [
            "需要条件計算結果：[1. 1. 1. 1.]\n",
            "供給条件計算結果：[1. 0. 1.]\n"
          ],
          "name": "stdout"
        }
      ]
    }
  ]
}