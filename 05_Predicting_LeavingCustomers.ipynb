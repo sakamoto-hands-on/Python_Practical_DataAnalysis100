{
  "nbformat": 4,
  "nbformat_minor": 0,
  "metadata": {
    "colab": {
      "name": "05_Predicting_LeavingCustomers.ipynb",
      "provenance": [],
      "collapsed_sections": [],
      "authorship_tag": "ABX9TyM3XPNeCBXFrtA3G4OIqlgw",
      "include_colab_link": true
    },
    "kernelspec": {
      "name": "python3",
      "display_name": "Python 3"
    }
  },
  "cells": [
    {
      "cell_type": "markdown",
      "metadata": {
        "id": "view-in-github",
        "colab_type": "text"
      },
      "source": [
        "<a href=\"https://colab.research.google.com/github/sakamoto-hands-on/Python_Practical_DataAnalysis100/blob/master/05_Predicting_LeavingCustomers.ipynb\" target=\"_parent\"><img src=\"https://colab.research.google.com/assets/colab-badge.svg\" alt=\"Open In Colab\"/></a>"
      ]
    },
    {
      "cell_type": "markdown",
      "metadata": {
        "id": "3Zu4PSYmHYei",
        "colab_type": "text"
      },
      "source": [
        "#スポーツジムの退会しそうなユーザを予測"
      ]
    },
    {
      "cell_type": "code",
      "metadata": {
        "id": "-l3rH9iVHV0M",
        "colab_type": "code",
        "colab": {}
      },
      "source": [
        "import pandas as pd\n",
        "customer = pd.read_csv('customer_join.csv')\n",
        "uselog_months = pd.read_csv('use_log_months.csv')"
      ],
      "execution_count": 0,
      "outputs": []
    },
    {
      "cell_type": "markdown",
      "metadata": {
        "id": "xuv4ALjRIABU",
        "colab_type": "text"
      },
      "source": [
        "当月と過去1か月の利用回数データを作成"
      ]
    },
    {
      "cell_type": "code",
      "metadata": {
        "id": "EfU2xsZUIE-0",
        "colab_type": "code",
        "colab": {
          "base_uri": "https://localhost:8080/",
          "height": 283
        },
        "outputId": "fadb0cd6-9a57-43d5-a3f3-64d6cfd9f3ab"
      },
      "source": [
        "year_months = list(uselog_months[\"年月\"].unique())\n",
        "uselog = pd.DataFrame()\n",
        "for i in range(1, len(year_months)):\n",
        "  tmp = uselog_months.loc[uselog_months[\"年月\"]==year_months[i]]\n",
        "  tmp.rename(columns={\"count\":\"count_0\"}, inplace=True)\n",
        "  tmp_before = uselog_months.loc[uselog_months[\"年月\"]==year_months[i-1]]\n",
        "  del tmp_before[\"年月\"]\n",
        "  tmp_before.rename(columns={\"count\":\"count_1\"}, inplace=True)\n",
        "  tmp = pd.merge(tmp, tmp_before, on=\"customer_id\", how=\"left\")\n",
        "  uselog = pd.concat([uselog, tmp], ignore_index=True)\n",
        "uselog.head()"
      ],
      "execution_count": 4,
      "outputs": [
        {
          "output_type": "stream",
          "text": [
            "/usr/local/lib/python3.6/dist-packages/pandas/core/frame.py:4133: SettingWithCopyWarning: \n",
            "A value is trying to be set on a copy of a slice from a DataFrame\n",
            "\n",
            "See the caveats in the documentation: https://pandas.pydata.org/pandas-docs/stable/user_guide/indexing.html#returning-a-view-versus-a-copy\n",
            "  errors=errors,\n"
          ],
          "name": "stderr"
        },
        {
          "output_type": "execute_result",
          "data": {
            "text/html": [
              "<div>\n",
              "<style scoped>\n",
              "    .dataframe tbody tr th:only-of-type {\n",
              "        vertical-align: middle;\n",
              "    }\n",
              "\n",
              "    .dataframe tbody tr th {\n",
              "        vertical-align: top;\n",
              "    }\n",
              "\n",
              "    .dataframe thead th {\n",
              "        text-align: right;\n",
              "    }\n",
              "</style>\n",
              "<table border=\"1\" class=\"dataframe\">\n",
              "  <thead>\n",
              "    <tr style=\"text-align: right;\">\n",
              "      <th></th>\n",
              "      <th>年月</th>\n",
              "      <th>customer_id</th>\n",
              "      <th>count_0</th>\n",
              "      <th>count_1</th>\n",
              "    </tr>\n",
              "  </thead>\n",
              "  <tbody>\n",
              "    <tr>\n",
              "      <th>0</th>\n",
              "      <td>201805</td>\n",
              "      <td>AS002855</td>\n",
              "      <td>5</td>\n",
              "      <td>4.0</td>\n",
              "    </tr>\n",
              "    <tr>\n",
              "      <th>1</th>\n",
              "      <td>201805</td>\n",
              "      <td>AS009373</td>\n",
              "      <td>4</td>\n",
              "      <td>3.0</td>\n",
              "    </tr>\n",
              "    <tr>\n",
              "      <th>2</th>\n",
              "      <td>201805</td>\n",
              "      <td>AS015233</td>\n",
              "      <td>7</td>\n",
              "      <td>NaN</td>\n",
              "    </tr>\n",
              "    <tr>\n",
              "      <th>3</th>\n",
              "      <td>201805</td>\n",
              "      <td>AS015315</td>\n",
              "      <td>3</td>\n",
              "      <td>6.0</td>\n",
              "    </tr>\n",
              "    <tr>\n",
              "      <th>4</th>\n",
              "      <td>201805</td>\n",
              "      <td>AS015739</td>\n",
              "      <td>5</td>\n",
              "      <td>7.0</td>\n",
              "    </tr>\n",
              "  </tbody>\n",
              "</table>\n",
              "</div>"
            ],
            "text/plain": [
              "       年月 customer_id  count_0  count_1\n",
              "0  201805    AS002855        5      4.0\n",
              "1  201805    AS009373        4      3.0\n",
              "2  201805    AS015233        7      NaN\n",
              "3  201805    AS015315        3      6.0\n",
              "4  201805    AS015739        5      7.0"
            ]
          },
          "metadata": {
            "tags": []
          },
          "execution_count": 4
        }
      ]
    },
    {
      "cell_type": "markdown",
      "metadata": {
        "id": "4gMbCShzK3Oh",
        "colab_type": "text"
      },
      "source": [
        "退会したユーザを絞り込んで、End_Date列の1か月前の年月を取得し、uselogとcustomer_id、年月をキーにして結合"
      ]
    },
    {
      "cell_type": "code",
      "metadata": {
        "id": "VkR7aDajLD8B",
        "colab_type": "code",
        "colab": {
          "base_uri": "https://localhost:8080/",
          "height": 726
        },
        "outputId": "3bd125fb-b087-46c1-b05a-9ac26c67fd96"
      },
      "source": [
        "from dateutil.relativedelta import relativedelta\n",
        "exit_customer = customer.loc[customer[\"is_deleted\"]==1]\n",
        "exit_customer[\"exit_date\"]=None\n",
        "exit_customer[\"end_date\"]=pd.to_datetime(exit_customer[\"end_date\"])\n",
        "for i in range(len(exit_customer)):\n",
        "  exit_customer[\"exit_date\"].iloc[i] = exit_customer[\"end_date\"].iloc[i] - relativedelta(months=1)\n",
        "exit_customer[\"年月\"] = exit_customer[\"exit_date\"].dt.strftime(\"%Y%m\")\n",
        "uselog[\"年月\"] = uselog[\"年月\"].astype(str)\n",
        "exit_uselog = pd.merge(uselog, exit_customer, on=[\"customer_id\", \"年月\"], how=\"left\")\n",
        "print(len(uselog))\n",
        "exit_uselog.head()"
      ],
      "execution_count": 5,
      "outputs": [
        {
          "output_type": "stream",
          "text": [
            "/usr/local/lib/python3.6/dist-packages/ipykernel_launcher.py:3: SettingWithCopyWarning: \n",
            "A value is trying to be set on a copy of a slice from a DataFrame.\n",
            "Try using .loc[row_indexer,col_indexer] = value instead\n",
            "\n",
            "See the caveats in the documentation: https://pandas.pydata.org/pandas-docs/stable/user_guide/indexing.html#returning-a-view-versus-a-copy\n",
            "  This is separate from the ipykernel package so we can avoid doing imports until\n",
            "/usr/local/lib/python3.6/dist-packages/ipykernel_launcher.py:4: SettingWithCopyWarning: \n",
            "A value is trying to be set on a copy of a slice from a DataFrame.\n",
            "Try using .loc[row_indexer,col_indexer] = value instead\n",
            "\n",
            "See the caveats in the documentation: https://pandas.pydata.org/pandas-docs/stable/user_guide/indexing.html#returning-a-view-versus-a-copy\n",
            "  after removing the cwd from sys.path.\n",
            "/usr/local/lib/python3.6/dist-packages/pandas/core/indexing.py:671: SettingWithCopyWarning: \n",
            "A value is trying to be set on a copy of a slice from a DataFrame\n",
            "\n",
            "See the caveats in the documentation: https://pandas.pydata.org/pandas-docs/stable/user_guide/indexing.html#returning-a-view-versus-a-copy\n",
            "  self._setitem_with_indexer(indexer, value)\n",
            "/usr/local/lib/python3.6/dist-packages/ipykernel_launcher.py:6: SettingWithCopyWarning: \n",
            "A value is trying to be set on a copy of a slice from a DataFrame\n",
            "\n",
            "See the caveats in the documentation: https://pandas.pydata.org/pandas-docs/stable/user_guide/indexing.html#returning-a-view-versus-a-copy\n",
            "  \n"
          ],
          "name": "stderr"
        },
        {
          "output_type": "stream",
          "text": [
            "33851\n"
          ],
          "name": "stdout"
        },
        {
          "output_type": "stream",
          "text": [
            "/usr/local/lib/python3.6/dist-packages/ipykernel_launcher.py:7: SettingWithCopyWarning: \n",
            "A value is trying to be set on a copy of a slice from a DataFrame.\n",
            "Try using .loc[row_indexer,col_indexer] = value instead\n",
            "\n",
            "See the caveats in the documentation: https://pandas.pydata.org/pandas-docs/stable/user_guide/indexing.html#returning-a-view-versus-a-copy\n",
            "  import sys\n"
          ],
          "name": "stderr"
        },
        {
          "output_type": "execute_result",
          "data": {
            "text/html": [
              "<div>\n",
              "<style scoped>\n",
              "    .dataframe tbody tr th:only-of-type {\n",
              "        vertical-align: middle;\n",
              "    }\n",
              "\n",
              "    .dataframe tbody tr th {\n",
              "        vertical-align: top;\n",
              "    }\n",
              "\n",
              "    .dataframe thead th {\n",
              "        text-align: right;\n",
              "    }\n",
              "</style>\n",
              "<table border=\"1\" class=\"dataframe\">\n",
              "  <thead>\n",
              "    <tr style=\"text-align: right;\">\n",
              "      <th></th>\n",
              "      <th>年月</th>\n",
              "      <th>customer_id</th>\n",
              "      <th>count_0</th>\n",
              "      <th>count_1</th>\n",
              "      <th>name</th>\n",
              "      <th>class</th>\n",
              "      <th>gender</th>\n",
              "      <th>start_date</th>\n",
              "      <th>end_date</th>\n",
              "      <th>campaign_id</th>\n",
              "      <th>is_deleted</th>\n",
              "      <th>class_name</th>\n",
              "      <th>price</th>\n",
              "      <th>campaign_name</th>\n",
              "      <th>mean</th>\n",
              "      <th>median</th>\n",
              "      <th>max</th>\n",
              "      <th>min</th>\n",
              "      <th>routine_flg</th>\n",
              "      <th>calc_date</th>\n",
              "      <th>membership_period</th>\n",
              "      <th>exit_date</th>\n",
              "    </tr>\n",
              "  </thead>\n",
              "  <tbody>\n",
              "    <tr>\n",
              "      <th>0</th>\n",
              "      <td>201805</td>\n",
              "      <td>AS002855</td>\n",
              "      <td>5</td>\n",
              "      <td>4.0</td>\n",
              "      <td>NaN</td>\n",
              "      <td>NaN</td>\n",
              "      <td>NaN</td>\n",
              "      <td>NaN</td>\n",
              "      <td>NaT</td>\n",
              "      <td>NaN</td>\n",
              "      <td>NaN</td>\n",
              "      <td>NaN</td>\n",
              "      <td>NaN</td>\n",
              "      <td>NaN</td>\n",
              "      <td>NaN</td>\n",
              "      <td>NaN</td>\n",
              "      <td>NaN</td>\n",
              "      <td>NaN</td>\n",
              "      <td>NaN</td>\n",
              "      <td>NaN</td>\n",
              "      <td>NaN</td>\n",
              "      <td>NaN</td>\n",
              "    </tr>\n",
              "    <tr>\n",
              "      <th>1</th>\n",
              "      <td>201805</td>\n",
              "      <td>AS009373</td>\n",
              "      <td>4</td>\n",
              "      <td>3.0</td>\n",
              "      <td>NaN</td>\n",
              "      <td>NaN</td>\n",
              "      <td>NaN</td>\n",
              "      <td>NaN</td>\n",
              "      <td>NaT</td>\n",
              "      <td>NaN</td>\n",
              "      <td>NaN</td>\n",
              "      <td>NaN</td>\n",
              "      <td>NaN</td>\n",
              "      <td>NaN</td>\n",
              "      <td>NaN</td>\n",
              "      <td>NaN</td>\n",
              "      <td>NaN</td>\n",
              "      <td>NaN</td>\n",
              "      <td>NaN</td>\n",
              "      <td>NaN</td>\n",
              "      <td>NaN</td>\n",
              "      <td>NaN</td>\n",
              "    </tr>\n",
              "    <tr>\n",
              "      <th>2</th>\n",
              "      <td>201805</td>\n",
              "      <td>AS015233</td>\n",
              "      <td>7</td>\n",
              "      <td>NaN</td>\n",
              "      <td>NaN</td>\n",
              "      <td>NaN</td>\n",
              "      <td>NaN</td>\n",
              "      <td>NaN</td>\n",
              "      <td>NaT</td>\n",
              "      <td>NaN</td>\n",
              "      <td>NaN</td>\n",
              "      <td>NaN</td>\n",
              "      <td>NaN</td>\n",
              "      <td>NaN</td>\n",
              "      <td>NaN</td>\n",
              "      <td>NaN</td>\n",
              "      <td>NaN</td>\n",
              "      <td>NaN</td>\n",
              "      <td>NaN</td>\n",
              "      <td>NaN</td>\n",
              "      <td>NaN</td>\n",
              "      <td>NaN</td>\n",
              "    </tr>\n",
              "    <tr>\n",
              "      <th>3</th>\n",
              "      <td>201805</td>\n",
              "      <td>AS015315</td>\n",
              "      <td>3</td>\n",
              "      <td>6.0</td>\n",
              "      <td>NaN</td>\n",
              "      <td>NaN</td>\n",
              "      <td>NaN</td>\n",
              "      <td>NaN</td>\n",
              "      <td>NaT</td>\n",
              "      <td>NaN</td>\n",
              "      <td>NaN</td>\n",
              "      <td>NaN</td>\n",
              "      <td>NaN</td>\n",
              "      <td>NaN</td>\n",
              "      <td>NaN</td>\n",
              "      <td>NaN</td>\n",
              "      <td>NaN</td>\n",
              "      <td>NaN</td>\n",
              "      <td>NaN</td>\n",
              "      <td>NaN</td>\n",
              "      <td>NaN</td>\n",
              "      <td>NaN</td>\n",
              "    </tr>\n",
              "    <tr>\n",
              "      <th>4</th>\n",
              "      <td>201805</td>\n",
              "      <td>AS015739</td>\n",
              "      <td>5</td>\n",
              "      <td>7.0</td>\n",
              "      <td>NaN</td>\n",
              "      <td>NaN</td>\n",
              "      <td>NaN</td>\n",
              "      <td>NaN</td>\n",
              "      <td>NaT</td>\n",
              "      <td>NaN</td>\n",
              "      <td>NaN</td>\n",
              "      <td>NaN</td>\n",
              "      <td>NaN</td>\n",
              "      <td>NaN</td>\n",
              "      <td>NaN</td>\n",
              "      <td>NaN</td>\n",
              "      <td>NaN</td>\n",
              "      <td>NaN</td>\n",
              "      <td>NaN</td>\n",
              "      <td>NaN</td>\n",
              "      <td>NaN</td>\n",
              "      <td>NaN</td>\n",
              "    </tr>\n",
              "  </tbody>\n",
              "</table>\n",
              "</div>"
            ],
            "text/plain": [
              "       年月 customer_id  count_0  ...  calc_date membership_period exit_date\n",
              "0  201805    AS002855        5  ...        NaN               NaN       NaN\n",
              "1  201805    AS009373        4  ...        NaN               NaN       NaN\n",
              "2  201805    AS015233        7  ...        NaN               NaN       NaN\n",
              "3  201805    AS015315        3  ...        NaN               NaN       NaN\n",
              "4  201805    AS015739        5  ...        NaN               NaN       NaN\n",
              "\n",
              "[5 rows x 22 columns]"
            ]
          },
          "metadata": {
            "tags": []
          },
          "execution_count": 5
        }
      ]
    },
    {
      "cell_type": "markdown",
      "metadata": {
        "id": "K5-PzdsEMwmK",
        "colab_type": "text"
      },
      "source": [
        "欠損値を削除"
      ]
    },
    {
      "cell_type": "code",
      "metadata": {
        "id": "0ewVNjnbMznr",
        "colab_type": "code",
        "colab": {
          "base_uri": "https://localhost:8080/",
          "height": 418
        },
        "outputId": "0528dfe9-64a6-45f4-bec4-d013a48e6ee6"
      },
      "source": [
        "exit_uselog = exit_uselog.dropna(subset=[\"name\"])\n",
        "print(len(exit_uselog))\n",
        "print(len(exit_uselog[\"customer_id\"].unique()))\n",
        "exit_uselog.head()"
      ],
      "execution_count": 6,
      "outputs": [
        {
          "output_type": "stream",
          "text": [
            "1104\n",
            "1104\n"
          ],
          "name": "stdout"
        },
        {
          "output_type": "execute_result",
          "data": {
            "text/html": [
              "<div>\n",
              "<style scoped>\n",
              "    .dataframe tbody tr th:only-of-type {\n",
              "        vertical-align: middle;\n",
              "    }\n",
              "\n",
              "    .dataframe tbody tr th {\n",
              "        vertical-align: top;\n",
              "    }\n",
              "\n",
              "    .dataframe thead th {\n",
              "        text-align: right;\n",
              "    }\n",
              "</style>\n",
              "<table border=\"1\" class=\"dataframe\">\n",
              "  <thead>\n",
              "    <tr style=\"text-align: right;\">\n",
              "      <th></th>\n",
              "      <th>年月</th>\n",
              "      <th>customer_id</th>\n",
              "      <th>count_0</th>\n",
              "      <th>count_1</th>\n",
              "      <th>name</th>\n",
              "      <th>class</th>\n",
              "      <th>gender</th>\n",
              "      <th>start_date</th>\n",
              "      <th>end_date</th>\n",
              "      <th>campaign_id</th>\n",
              "      <th>is_deleted</th>\n",
              "      <th>class_name</th>\n",
              "      <th>price</th>\n",
              "      <th>campaign_name</th>\n",
              "      <th>mean</th>\n",
              "      <th>median</th>\n",
              "      <th>max</th>\n",
              "      <th>min</th>\n",
              "      <th>routine_flg</th>\n",
              "      <th>calc_date</th>\n",
              "      <th>membership_period</th>\n",
              "      <th>exit_date</th>\n",
              "    </tr>\n",
              "  </thead>\n",
              "  <tbody>\n",
              "    <tr>\n",
              "      <th>19</th>\n",
              "      <td>201805</td>\n",
              "      <td>AS055680</td>\n",
              "      <td>3</td>\n",
              "      <td>3.0</td>\n",
              "      <td>XXXXX</td>\n",
              "      <td>C01</td>\n",
              "      <td>M</td>\n",
              "      <td>2018-03-01</td>\n",
              "      <td>2018-06-30</td>\n",
              "      <td>CA1</td>\n",
              "      <td>1.0</td>\n",
              "      <td>オールタイム</td>\n",
              "      <td>10500.0</td>\n",
              "      <td>通常</td>\n",
              "      <td>3.000000</td>\n",
              "      <td>3.0</td>\n",
              "      <td>3.0</td>\n",
              "      <td>3.0</td>\n",
              "      <td>0.0</td>\n",
              "      <td>2018-06-30</td>\n",
              "      <td>3.0</td>\n",
              "      <td>2018-05-30 00:00:00</td>\n",
              "    </tr>\n",
              "    <tr>\n",
              "      <th>57</th>\n",
              "      <td>201805</td>\n",
              "      <td>AS169823</td>\n",
              "      <td>2</td>\n",
              "      <td>3.0</td>\n",
              "      <td>XX</td>\n",
              "      <td>C01</td>\n",
              "      <td>M</td>\n",
              "      <td>2017-11-01</td>\n",
              "      <td>2018-06-30</td>\n",
              "      <td>CA1</td>\n",
              "      <td>1.0</td>\n",
              "      <td>オールタイム</td>\n",
              "      <td>10500.0</td>\n",
              "      <td>通常</td>\n",
              "      <td>3.000000</td>\n",
              "      <td>3.0</td>\n",
              "      <td>4.0</td>\n",
              "      <td>2.0</td>\n",
              "      <td>1.0</td>\n",
              "      <td>2018-06-30</td>\n",
              "      <td>7.0</td>\n",
              "      <td>2018-05-30 00:00:00</td>\n",
              "    </tr>\n",
              "    <tr>\n",
              "      <th>110</th>\n",
              "      <td>201805</td>\n",
              "      <td>AS305860</td>\n",
              "      <td>5</td>\n",
              "      <td>3.0</td>\n",
              "      <td>XXXX</td>\n",
              "      <td>C01</td>\n",
              "      <td>M</td>\n",
              "      <td>2017-06-01</td>\n",
              "      <td>2018-06-30</td>\n",
              "      <td>CA1</td>\n",
              "      <td>1.0</td>\n",
              "      <td>オールタイム</td>\n",
              "      <td>10500.0</td>\n",
              "      <td>通常</td>\n",
              "      <td>3.333333</td>\n",
              "      <td>3.0</td>\n",
              "      <td>5.0</td>\n",
              "      <td>2.0</td>\n",
              "      <td>0.0</td>\n",
              "      <td>2018-06-30</td>\n",
              "      <td>12.0</td>\n",
              "      <td>2018-05-30 00:00:00</td>\n",
              "    </tr>\n",
              "    <tr>\n",
              "      <th>128</th>\n",
              "      <td>201805</td>\n",
              "      <td>AS363699</td>\n",
              "      <td>5</td>\n",
              "      <td>3.0</td>\n",
              "      <td>XXXXX</td>\n",
              "      <td>C01</td>\n",
              "      <td>M</td>\n",
              "      <td>2018-02-01</td>\n",
              "      <td>2018-06-30</td>\n",
              "      <td>CA1</td>\n",
              "      <td>1.0</td>\n",
              "      <td>オールタイム</td>\n",
              "      <td>10500.0</td>\n",
              "      <td>通常</td>\n",
              "      <td>3.333333</td>\n",
              "      <td>3.0</td>\n",
              "      <td>5.0</td>\n",
              "      <td>2.0</td>\n",
              "      <td>0.0</td>\n",
              "      <td>2018-06-30</td>\n",
              "      <td>4.0</td>\n",
              "      <td>2018-05-30 00:00:00</td>\n",
              "    </tr>\n",
              "    <tr>\n",
              "      <th>147</th>\n",
              "      <td>201805</td>\n",
              "      <td>AS417696</td>\n",
              "      <td>1</td>\n",
              "      <td>4.0</td>\n",
              "      <td>XX</td>\n",
              "      <td>C03</td>\n",
              "      <td>F</td>\n",
              "      <td>2017-09-01</td>\n",
              "      <td>2018-06-30</td>\n",
              "      <td>CA1</td>\n",
              "      <td>1.0</td>\n",
              "      <td>ナイト</td>\n",
              "      <td>6000.0</td>\n",
              "      <td>通常</td>\n",
              "      <td>2.000000</td>\n",
              "      <td>1.0</td>\n",
              "      <td>4.0</td>\n",
              "      <td>1.0</td>\n",
              "      <td>0.0</td>\n",
              "      <td>2018-06-30</td>\n",
              "      <td>9.0</td>\n",
              "      <td>2018-05-30 00:00:00</td>\n",
              "    </tr>\n",
              "  </tbody>\n",
              "</table>\n",
              "</div>"
            ],
            "text/plain": [
              "         年月 customer_id  ...  membership_period            exit_date\n",
              "19   201805    AS055680  ...                3.0  2018-05-30 00:00:00\n",
              "57   201805    AS169823  ...                7.0  2018-05-30 00:00:00\n",
              "110  201805    AS305860  ...               12.0  2018-05-30 00:00:00\n",
              "128  201805    AS363699  ...                4.0  2018-05-30 00:00:00\n",
              "147  201805    AS417696  ...                9.0  2018-05-30 00:00:00\n",
              "\n",
              "[5 rows x 22 columns]"
            ]
          },
          "metadata": {
            "tags": []
          },
          "execution_count": 6
        }
      ]
    },
    {
      "cell_type": "markdown",
      "metadata": {
        "id": "eeQ9D-qeNXHb",
        "colab_type": "text"
      },
      "source": [
        "##継続顧客のデータを作成"
      ]
    },
    {
      "cell_type": "code",
      "metadata": {
        "id": "bEEr7l7SNbb9",
        "colab_type": "code",
        "colab": {
          "base_uri": "https://localhost:8080/",
          "height": 52
        },
        "outputId": "934462ea-05e8-4ccb-9041-d5e8f8cbaaf6"
      },
      "source": [
        "conti_customer = customer.loc[customer[\"is_deleted\"]==0]\n",
        "conti_uselog = pd.merge(uselog, conti_customer, on=[\"customer_id\"], how=\"left\")\n",
        "print(len(conti_uselog))\n",
        "conti_uselog = conti_uselog.dropna(subset=[\"name\"])\n",
        "print(len(conti_uselog))"
      ],
      "execution_count": 7,
      "outputs": [
        {
          "output_type": "stream",
          "text": [
            "33851\n",
            "27422\n"
          ],
          "name": "stdout"
        }
      ]
    },
    {
      "cell_type": "markdown",
      "metadata": {
        "id": "hfYITLFIPUIM",
        "colab_type": "text"
      },
      "source": [
        "退会データが1104件に対して、継続顧客データは27422件と不均衡\n",
        "継続顧客も、顧客あたり1件になるようにアンダーサンプリング\n",
        "データをシャッフルして、重複を削除"
      ]
    },
    {
      "cell_type": "code",
      "metadata": {
        "id": "LhSzpTvYPkMh",
        "colab_type": "code",
        "colab": {
          "base_uri": "https://localhost:8080/",
          "height": 317
        },
        "outputId": "39aa3b3d-43f9-4cad-cf9d-4e88825ab9e9"
      },
      "source": [
        "conti_uselog = conti_uselog.sample(frac=1).reset_index(drop=True)\n",
        "conti_uselog = conti_uselog.drop_duplicates(subset=\"customer_id\")\n",
        "print(len(conti_uselog))\n",
        "conti_uselog.head()"
      ],
      "execution_count": 8,
      "outputs": [
        {
          "output_type": "stream",
          "text": [
            "2842\n"
          ],
          "name": "stdout"
        },
        {
          "output_type": "execute_result",
          "data": {
            "text/html": [
              "<div>\n",
              "<style scoped>\n",
              "    .dataframe tbody tr th:only-of-type {\n",
              "        vertical-align: middle;\n",
              "    }\n",
              "\n",
              "    .dataframe tbody tr th {\n",
              "        vertical-align: top;\n",
              "    }\n",
              "\n",
              "    .dataframe thead th {\n",
              "        text-align: right;\n",
              "    }\n",
              "</style>\n",
              "<table border=\"1\" class=\"dataframe\">\n",
              "  <thead>\n",
              "    <tr style=\"text-align: right;\">\n",
              "      <th></th>\n",
              "      <th>年月</th>\n",
              "      <th>customer_id</th>\n",
              "      <th>count_0</th>\n",
              "      <th>count_1</th>\n",
              "      <th>name</th>\n",
              "      <th>class</th>\n",
              "      <th>gender</th>\n",
              "      <th>start_date</th>\n",
              "      <th>end_date</th>\n",
              "      <th>campaign_id</th>\n",
              "      <th>is_deleted</th>\n",
              "      <th>class_name</th>\n",
              "      <th>price</th>\n",
              "      <th>campaign_name</th>\n",
              "      <th>mean</th>\n",
              "      <th>median</th>\n",
              "      <th>max</th>\n",
              "      <th>min</th>\n",
              "      <th>routine_flg</th>\n",
              "      <th>calc_date</th>\n",
              "      <th>membership_period</th>\n",
              "    </tr>\n",
              "  </thead>\n",
              "  <tbody>\n",
              "    <tr>\n",
              "      <th>0</th>\n",
              "      <td>201812</td>\n",
              "      <td>GD106268</td>\n",
              "      <td>5</td>\n",
              "      <td>4.0</td>\n",
              "      <td>XXXXX</td>\n",
              "      <td>C01</td>\n",
              "      <td>F</td>\n",
              "      <td>2016-12-01</td>\n",
              "      <td>NaN</td>\n",
              "      <td>CA1</td>\n",
              "      <td>0.0</td>\n",
              "      <td>オールタイム</td>\n",
              "      <td>10500.0</td>\n",
              "      <td>通常</td>\n",
              "      <td>4.750000</td>\n",
              "      <td>5.0</td>\n",
              "      <td>6.0</td>\n",
              "      <td>2.0</td>\n",
              "      <td>1.0</td>\n",
              "      <td>2019-04-30</td>\n",
              "      <td>28.0</td>\n",
              "    </tr>\n",
              "    <tr>\n",
              "      <th>1</th>\n",
              "      <td>201903</td>\n",
              "      <td>HD384128</td>\n",
              "      <td>8</td>\n",
              "      <td>6.0</td>\n",
              "      <td>XXX</td>\n",
              "      <td>C03</td>\n",
              "      <td>F</td>\n",
              "      <td>2018-05-02</td>\n",
              "      <td>NaN</td>\n",
              "      <td>CA2</td>\n",
              "      <td>0.0</td>\n",
              "      <td>ナイト</td>\n",
              "      <td>6000.0</td>\n",
              "      <td>入会費半額</td>\n",
              "      <td>7.727273</td>\n",
              "      <td>8.0</td>\n",
              "      <td>9.0</td>\n",
              "      <td>6.0</td>\n",
              "      <td>1.0</td>\n",
              "      <td>2019-04-30</td>\n",
              "      <td>11.0</td>\n",
              "    </tr>\n",
              "    <tr>\n",
              "      <th>2</th>\n",
              "      <td>201807</td>\n",
              "      <td>TS948747</td>\n",
              "      <td>5</td>\n",
              "      <td>6.0</td>\n",
              "      <td>XX</td>\n",
              "      <td>C01</td>\n",
              "      <td>F</td>\n",
              "      <td>2017-06-01</td>\n",
              "      <td>NaN</td>\n",
              "      <td>CA1</td>\n",
              "      <td>0.0</td>\n",
              "      <td>オールタイム</td>\n",
              "      <td>10500.0</td>\n",
              "      <td>通常</td>\n",
              "      <td>5.333333</td>\n",
              "      <td>5.0</td>\n",
              "      <td>8.0</td>\n",
              "      <td>3.0</td>\n",
              "      <td>1.0</td>\n",
              "      <td>2019-04-30</td>\n",
              "      <td>22.0</td>\n",
              "    </tr>\n",
              "    <tr>\n",
              "      <th>3</th>\n",
              "      <td>201807</td>\n",
              "      <td>PL876696</td>\n",
              "      <td>7</td>\n",
              "      <td>4.0</td>\n",
              "      <td>XXXX</td>\n",
              "      <td>C02</td>\n",
              "      <td>F</td>\n",
              "      <td>2016-10-01</td>\n",
              "      <td>NaN</td>\n",
              "      <td>CA1</td>\n",
              "      <td>0.0</td>\n",
              "      <td>デイタイム</td>\n",
              "      <td>7500.0</td>\n",
              "      <td>通常</td>\n",
              "      <td>5.333333</td>\n",
              "      <td>5.0</td>\n",
              "      <td>8.0</td>\n",
              "      <td>1.0</td>\n",
              "      <td>1.0</td>\n",
              "      <td>2019-04-30</td>\n",
              "      <td>30.0</td>\n",
              "    </tr>\n",
              "    <tr>\n",
              "      <th>4</th>\n",
              "      <td>201805</td>\n",
              "      <td>HI764799</td>\n",
              "      <td>3</td>\n",
              "      <td>5.0</td>\n",
              "      <td>XXX</td>\n",
              "      <td>C01</td>\n",
              "      <td>M</td>\n",
              "      <td>2016-04-01</td>\n",
              "      <td>NaN</td>\n",
              "      <td>CA1</td>\n",
              "      <td>0.0</td>\n",
              "      <td>オールタイム</td>\n",
              "      <td>10500.0</td>\n",
              "      <td>通常</td>\n",
              "      <td>4.333333</td>\n",
              "      <td>4.5</td>\n",
              "      <td>6.0</td>\n",
              "      <td>2.0</td>\n",
              "      <td>1.0</td>\n",
              "      <td>2019-04-30</td>\n",
              "      <td>36.0</td>\n",
              "    </tr>\n",
              "  </tbody>\n",
              "</table>\n",
              "</div>"
            ],
            "text/plain": [
              "       年月 customer_id  count_0  ...  routine_flg   calc_date membership_period\n",
              "0  201812    GD106268        5  ...          1.0  2019-04-30              28.0\n",
              "1  201903    HD384128        8  ...          1.0  2019-04-30              11.0\n",
              "2  201807    TS948747        5  ...          1.0  2019-04-30              22.0\n",
              "3  201807    PL876696        7  ...          1.0  2019-04-30              30.0\n",
              "4  201805    HI764799        3  ...          1.0  2019-04-30              36.0\n",
              "\n",
              "[5 rows x 21 columns]"
            ]
          },
          "metadata": {
            "tags": []
          },
          "execution_count": 8
        }
      ]
    },
    {
      "cell_type": "code",
      "metadata": {
        "id": "4ggPOW_RX7ab",
        "colab_type": "code",
        "colab": {
          "base_uri": "https://localhost:8080/",
          "height": 317
        },
        "outputId": "a8850c70-7b30-47ce-d608-cb64d8462c55"
      },
      "source": [
        "predict_data = pd.concat([conti_uselog, exit_uselog], ignore_index=True)\n",
        "print(len(predict_data))\n",
        "predict_data.head()"
      ],
      "execution_count": 9,
      "outputs": [
        {
          "output_type": "stream",
          "text": [
            "3946\n"
          ],
          "name": "stdout"
        },
        {
          "output_type": "execute_result",
          "data": {
            "text/html": [
              "<div>\n",
              "<style scoped>\n",
              "    .dataframe tbody tr th:only-of-type {\n",
              "        vertical-align: middle;\n",
              "    }\n",
              "\n",
              "    .dataframe tbody tr th {\n",
              "        vertical-align: top;\n",
              "    }\n",
              "\n",
              "    .dataframe thead th {\n",
              "        text-align: right;\n",
              "    }\n",
              "</style>\n",
              "<table border=\"1\" class=\"dataframe\">\n",
              "  <thead>\n",
              "    <tr style=\"text-align: right;\">\n",
              "      <th></th>\n",
              "      <th>年月</th>\n",
              "      <th>customer_id</th>\n",
              "      <th>count_0</th>\n",
              "      <th>count_1</th>\n",
              "      <th>name</th>\n",
              "      <th>class</th>\n",
              "      <th>gender</th>\n",
              "      <th>start_date</th>\n",
              "      <th>end_date</th>\n",
              "      <th>campaign_id</th>\n",
              "      <th>is_deleted</th>\n",
              "      <th>class_name</th>\n",
              "      <th>price</th>\n",
              "      <th>campaign_name</th>\n",
              "      <th>mean</th>\n",
              "      <th>median</th>\n",
              "      <th>max</th>\n",
              "      <th>min</th>\n",
              "      <th>routine_flg</th>\n",
              "      <th>calc_date</th>\n",
              "      <th>membership_period</th>\n",
              "      <th>exit_date</th>\n",
              "    </tr>\n",
              "  </thead>\n",
              "  <tbody>\n",
              "    <tr>\n",
              "      <th>0</th>\n",
              "      <td>201812</td>\n",
              "      <td>GD106268</td>\n",
              "      <td>5</td>\n",
              "      <td>4.0</td>\n",
              "      <td>XXXXX</td>\n",
              "      <td>C01</td>\n",
              "      <td>F</td>\n",
              "      <td>2016-12-01</td>\n",
              "      <td>NaN</td>\n",
              "      <td>CA1</td>\n",
              "      <td>0.0</td>\n",
              "      <td>オールタイム</td>\n",
              "      <td>10500.0</td>\n",
              "      <td>通常</td>\n",
              "      <td>4.750000</td>\n",
              "      <td>5.0</td>\n",
              "      <td>6.0</td>\n",
              "      <td>2.0</td>\n",
              "      <td>1.0</td>\n",
              "      <td>2019-04-30</td>\n",
              "      <td>28.0</td>\n",
              "      <td>NaN</td>\n",
              "    </tr>\n",
              "    <tr>\n",
              "      <th>1</th>\n",
              "      <td>201903</td>\n",
              "      <td>HD384128</td>\n",
              "      <td>8</td>\n",
              "      <td>6.0</td>\n",
              "      <td>XXX</td>\n",
              "      <td>C03</td>\n",
              "      <td>F</td>\n",
              "      <td>2018-05-02</td>\n",
              "      <td>NaN</td>\n",
              "      <td>CA2</td>\n",
              "      <td>0.0</td>\n",
              "      <td>ナイト</td>\n",
              "      <td>6000.0</td>\n",
              "      <td>入会費半額</td>\n",
              "      <td>7.727273</td>\n",
              "      <td>8.0</td>\n",
              "      <td>9.0</td>\n",
              "      <td>6.0</td>\n",
              "      <td>1.0</td>\n",
              "      <td>2019-04-30</td>\n",
              "      <td>11.0</td>\n",
              "      <td>NaN</td>\n",
              "    </tr>\n",
              "    <tr>\n",
              "      <th>2</th>\n",
              "      <td>201807</td>\n",
              "      <td>TS948747</td>\n",
              "      <td>5</td>\n",
              "      <td>6.0</td>\n",
              "      <td>XX</td>\n",
              "      <td>C01</td>\n",
              "      <td>F</td>\n",
              "      <td>2017-06-01</td>\n",
              "      <td>NaN</td>\n",
              "      <td>CA1</td>\n",
              "      <td>0.0</td>\n",
              "      <td>オールタイム</td>\n",
              "      <td>10500.0</td>\n",
              "      <td>通常</td>\n",
              "      <td>5.333333</td>\n",
              "      <td>5.0</td>\n",
              "      <td>8.0</td>\n",
              "      <td>3.0</td>\n",
              "      <td>1.0</td>\n",
              "      <td>2019-04-30</td>\n",
              "      <td>22.0</td>\n",
              "      <td>NaN</td>\n",
              "    </tr>\n",
              "    <tr>\n",
              "      <th>3</th>\n",
              "      <td>201807</td>\n",
              "      <td>PL876696</td>\n",
              "      <td>7</td>\n",
              "      <td>4.0</td>\n",
              "      <td>XXXX</td>\n",
              "      <td>C02</td>\n",
              "      <td>F</td>\n",
              "      <td>2016-10-01</td>\n",
              "      <td>NaN</td>\n",
              "      <td>CA1</td>\n",
              "      <td>0.0</td>\n",
              "      <td>デイタイム</td>\n",
              "      <td>7500.0</td>\n",
              "      <td>通常</td>\n",
              "      <td>5.333333</td>\n",
              "      <td>5.0</td>\n",
              "      <td>8.0</td>\n",
              "      <td>1.0</td>\n",
              "      <td>1.0</td>\n",
              "      <td>2019-04-30</td>\n",
              "      <td>30.0</td>\n",
              "      <td>NaN</td>\n",
              "    </tr>\n",
              "    <tr>\n",
              "      <th>4</th>\n",
              "      <td>201805</td>\n",
              "      <td>HI764799</td>\n",
              "      <td>3</td>\n",
              "      <td>5.0</td>\n",
              "      <td>XXX</td>\n",
              "      <td>C01</td>\n",
              "      <td>M</td>\n",
              "      <td>2016-04-01</td>\n",
              "      <td>NaN</td>\n",
              "      <td>CA1</td>\n",
              "      <td>0.0</td>\n",
              "      <td>オールタイム</td>\n",
              "      <td>10500.0</td>\n",
              "      <td>通常</td>\n",
              "      <td>4.333333</td>\n",
              "      <td>4.5</td>\n",
              "      <td>6.0</td>\n",
              "      <td>2.0</td>\n",
              "      <td>1.0</td>\n",
              "      <td>2019-04-30</td>\n",
              "      <td>36.0</td>\n",
              "      <td>NaN</td>\n",
              "    </tr>\n",
              "  </tbody>\n",
              "</table>\n",
              "</div>"
            ],
            "text/plain": [
              "       年月 customer_id  count_0  ...   calc_date membership_period exit_date\n",
              "0  201812    GD106268        5  ...  2019-04-30              28.0       NaN\n",
              "1  201903    HD384128        8  ...  2019-04-30              11.0       NaN\n",
              "2  201807    TS948747        5  ...  2019-04-30              22.0       NaN\n",
              "3  201807    PL876696        7  ...  2019-04-30              30.0       NaN\n",
              "4  201805    HI764799        3  ...  2019-04-30              36.0       NaN\n",
              "\n",
              "[5 rows x 22 columns]"
            ]
          },
          "metadata": {
            "tags": []
          },
          "execution_count": 9
        }
      ]
    },
    {
      "cell_type": "markdown",
      "metadata": {
        "id": "cS1BI-90YSi6",
        "colab_type": "text"
      },
      "source": [
        "##予測する月の在籍期間を作成する"
      ]
    },
    {
      "cell_type": "code",
      "metadata": {
        "id": "IF7k7mP4YWDZ",
        "colab_type": "code",
        "colab": {
          "base_uri": "https://localhost:8080/",
          "height": 387
        },
        "outputId": "669ae073-d65e-4568-c00c-cafcc61552ef"
      },
      "source": [
        "predict_data[\"period\"]=0\n",
        "predict_data[\"now_date\"] = pd.to_datetime(predict_data[\"年月\"], format=\"%Y%m\")\n",
        "predict_data[\"start_date\"]=pd.to_datetime(predict_data[\"start_date\"])\n",
        "for i in range(len(predict_data)):\n",
        "  delta = relativedelta(predict_data[\"now_date\"][i], predict_data[\"start_date\"][i])\n",
        "  predict_data[\"period\"][i] = int(delta.years*12 + delta.months)\n",
        "predict_data.head()"
      ],
      "execution_count": 10,
      "outputs": [
        {
          "output_type": "stream",
          "text": [
            "/usr/local/lib/python3.6/dist-packages/ipykernel_launcher.py:6: SettingWithCopyWarning: \n",
            "A value is trying to be set on a copy of a slice from a DataFrame\n",
            "\n",
            "See the caveats in the documentation: https://pandas.pydata.org/pandas-docs/stable/user_guide/indexing.html#returning-a-view-versus-a-copy\n",
            "  \n"
          ],
          "name": "stderr"
        },
        {
          "output_type": "execute_result",
          "data": {
            "text/html": [
              "<div>\n",
              "<style scoped>\n",
              "    .dataframe tbody tr th:only-of-type {\n",
              "        vertical-align: middle;\n",
              "    }\n",
              "\n",
              "    .dataframe tbody tr th {\n",
              "        vertical-align: top;\n",
              "    }\n",
              "\n",
              "    .dataframe thead th {\n",
              "        text-align: right;\n",
              "    }\n",
              "</style>\n",
              "<table border=\"1\" class=\"dataframe\">\n",
              "  <thead>\n",
              "    <tr style=\"text-align: right;\">\n",
              "      <th></th>\n",
              "      <th>年月</th>\n",
              "      <th>customer_id</th>\n",
              "      <th>count_0</th>\n",
              "      <th>count_1</th>\n",
              "      <th>name</th>\n",
              "      <th>class</th>\n",
              "      <th>gender</th>\n",
              "      <th>start_date</th>\n",
              "      <th>end_date</th>\n",
              "      <th>campaign_id</th>\n",
              "      <th>is_deleted</th>\n",
              "      <th>class_name</th>\n",
              "      <th>price</th>\n",
              "      <th>campaign_name</th>\n",
              "      <th>mean</th>\n",
              "      <th>median</th>\n",
              "      <th>max</th>\n",
              "      <th>min</th>\n",
              "      <th>routine_flg</th>\n",
              "      <th>calc_date</th>\n",
              "      <th>membership_period</th>\n",
              "      <th>exit_date</th>\n",
              "      <th>period</th>\n",
              "      <th>now_date</th>\n",
              "    </tr>\n",
              "  </thead>\n",
              "  <tbody>\n",
              "    <tr>\n",
              "      <th>0</th>\n",
              "      <td>201812</td>\n",
              "      <td>GD106268</td>\n",
              "      <td>5</td>\n",
              "      <td>4.0</td>\n",
              "      <td>XXXXX</td>\n",
              "      <td>C01</td>\n",
              "      <td>F</td>\n",
              "      <td>2016-12-01</td>\n",
              "      <td>NaN</td>\n",
              "      <td>CA1</td>\n",
              "      <td>0.0</td>\n",
              "      <td>オールタイム</td>\n",
              "      <td>10500.0</td>\n",
              "      <td>通常</td>\n",
              "      <td>4.750000</td>\n",
              "      <td>5.0</td>\n",
              "      <td>6.0</td>\n",
              "      <td>2.0</td>\n",
              "      <td>1.0</td>\n",
              "      <td>2019-04-30</td>\n",
              "      <td>28.0</td>\n",
              "      <td>NaN</td>\n",
              "      <td>24</td>\n",
              "      <td>2018-12-01</td>\n",
              "    </tr>\n",
              "    <tr>\n",
              "      <th>1</th>\n",
              "      <td>201903</td>\n",
              "      <td>HD384128</td>\n",
              "      <td>8</td>\n",
              "      <td>6.0</td>\n",
              "      <td>XXX</td>\n",
              "      <td>C03</td>\n",
              "      <td>F</td>\n",
              "      <td>2018-05-02</td>\n",
              "      <td>NaN</td>\n",
              "      <td>CA2</td>\n",
              "      <td>0.0</td>\n",
              "      <td>ナイト</td>\n",
              "      <td>6000.0</td>\n",
              "      <td>入会費半額</td>\n",
              "      <td>7.727273</td>\n",
              "      <td>8.0</td>\n",
              "      <td>9.0</td>\n",
              "      <td>6.0</td>\n",
              "      <td>1.0</td>\n",
              "      <td>2019-04-30</td>\n",
              "      <td>11.0</td>\n",
              "      <td>NaN</td>\n",
              "      <td>9</td>\n",
              "      <td>2019-03-01</td>\n",
              "    </tr>\n",
              "    <tr>\n",
              "      <th>2</th>\n",
              "      <td>201807</td>\n",
              "      <td>TS948747</td>\n",
              "      <td>5</td>\n",
              "      <td>6.0</td>\n",
              "      <td>XX</td>\n",
              "      <td>C01</td>\n",
              "      <td>F</td>\n",
              "      <td>2017-06-01</td>\n",
              "      <td>NaN</td>\n",
              "      <td>CA1</td>\n",
              "      <td>0.0</td>\n",
              "      <td>オールタイム</td>\n",
              "      <td>10500.0</td>\n",
              "      <td>通常</td>\n",
              "      <td>5.333333</td>\n",
              "      <td>5.0</td>\n",
              "      <td>8.0</td>\n",
              "      <td>3.0</td>\n",
              "      <td>1.0</td>\n",
              "      <td>2019-04-30</td>\n",
              "      <td>22.0</td>\n",
              "      <td>NaN</td>\n",
              "      <td>13</td>\n",
              "      <td>2018-07-01</td>\n",
              "    </tr>\n",
              "    <tr>\n",
              "      <th>3</th>\n",
              "      <td>201807</td>\n",
              "      <td>PL876696</td>\n",
              "      <td>7</td>\n",
              "      <td>4.0</td>\n",
              "      <td>XXXX</td>\n",
              "      <td>C02</td>\n",
              "      <td>F</td>\n",
              "      <td>2016-10-01</td>\n",
              "      <td>NaN</td>\n",
              "      <td>CA1</td>\n",
              "      <td>0.0</td>\n",
              "      <td>デイタイム</td>\n",
              "      <td>7500.0</td>\n",
              "      <td>通常</td>\n",
              "      <td>5.333333</td>\n",
              "      <td>5.0</td>\n",
              "      <td>8.0</td>\n",
              "      <td>1.0</td>\n",
              "      <td>1.0</td>\n",
              "      <td>2019-04-30</td>\n",
              "      <td>30.0</td>\n",
              "      <td>NaN</td>\n",
              "      <td>21</td>\n",
              "      <td>2018-07-01</td>\n",
              "    </tr>\n",
              "    <tr>\n",
              "      <th>4</th>\n",
              "      <td>201805</td>\n",
              "      <td>HI764799</td>\n",
              "      <td>3</td>\n",
              "      <td>5.0</td>\n",
              "      <td>XXX</td>\n",
              "      <td>C01</td>\n",
              "      <td>M</td>\n",
              "      <td>2016-04-01</td>\n",
              "      <td>NaN</td>\n",
              "      <td>CA1</td>\n",
              "      <td>0.0</td>\n",
              "      <td>オールタイム</td>\n",
              "      <td>10500.0</td>\n",
              "      <td>通常</td>\n",
              "      <td>4.333333</td>\n",
              "      <td>4.5</td>\n",
              "      <td>6.0</td>\n",
              "      <td>2.0</td>\n",
              "      <td>1.0</td>\n",
              "      <td>2019-04-30</td>\n",
              "      <td>36.0</td>\n",
              "      <td>NaN</td>\n",
              "      <td>25</td>\n",
              "      <td>2018-05-01</td>\n",
              "    </tr>\n",
              "  </tbody>\n",
              "</table>\n",
              "</div>"
            ],
            "text/plain": [
              "       年月 customer_id  count_0  ...  exit_date period   now_date\n",
              "0  201812    GD106268        5  ...        NaN     24 2018-12-01\n",
              "1  201903    HD384128        8  ...        NaN      9 2019-03-01\n",
              "2  201807    TS948747        5  ...        NaN     13 2018-07-01\n",
              "3  201807    PL876696        7  ...        NaN     21 2018-07-01\n",
              "4  201805    HI764799        3  ...        NaN     25 2018-05-01\n",
              "\n",
              "[5 rows x 24 columns]"
            ]
          },
          "metadata": {
            "tags": []
          },
          "execution_count": 10
        }
      ]
    },
    {
      "cell_type": "markdown",
      "metadata": {
        "id": "H1V9FsL2Zz4q",
        "colab_type": "text"
      },
      "source": [
        "##欠損値を除去"
      ]
    },
    {
      "cell_type": "code",
      "metadata": {
        "id": "MrAkv9inZ2LC",
        "colab_type": "code",
        "colab": {
          "base_uri": "https://localhost:8080/",
          "height": 457
        },
        "outputId": "a72f845e-fe32-463a-d1a5-0d46f4da36bb"
      },
      "source": [
        "predict_data.isna().sum()"
      ],
      "execution_count": 11,
      "outputs": [
        {
          "output_type": "execute_result",
          "data": {
            "text/plain": [
              "年月                      0\n",
              "customer_id             0\n",
              "count_0                 0\n",
              "count_1               242\n",
              "name                    0\n",
              "class                   0\n",
              "gender                  0\n",
              "start_date              0\n",
              "end_date             2842\n",
              "campaign_id             0\n",
              "is_deleted              0\n",
              "class_name              0\n",
              "price                   0\n",
              "campaign_name           0\n",
              "mean                    0\n",
              "median                  0\n",
              "max                     0\n",
              "min                     0\n",
              "routine_flg             0\n",
              "calc_date               0\n",
              "membership_period       0\n",
              "exit_date            2842\n",
              "period                  0\n",
              "now_date                0\n",
              "dtype: int64"
            ]
          },
          "metadata": {
            "tags": []
          },
          "execution_count": 11
        }
      ]
    },
    {
      "cell_type": "code",
      "metadata": {
        "id": "1okkUGc0daAF",
        "colab_type": "code",
        "colab": {
          "base_uri": "https://localhost:8080/",
          "height": 457
        },
        "outputId": "450cfe50-982b-4200-9fe0-f93cf864f4a5"
      },
      "source": [
        "predict_data = predict_data.dropna(subset=[\"count_1\"])\n",
        "predict_data.isna().sum()"
      ],
      "execution_count": 12,
      "outputs": [
        {
          "output_type": "execute_result",
          "data": {
            "text/plain": [
              "年月                      0\n",
              "customer_id             0\n",
              "count_0                 0\n",
              "count_1                 0\n",
              "name                    0\n",
              "class                   0\n",
              "gender                  0\n",
              "start_date              0\n",
              "end_date             2652\n",
              "campaign_id             0\n",
              "is_deleted              0\n",
              "class_name              0\n",
              "price                   0\n",
              "campaign_name           0\n",
              "mean                    0\n",
              "median                  0\n",
              "max                     0\n",
              "min                     0\n",
              "routine_flg             0\n",
              "calc_date               0\n",
              "membership_period       0\n",
              "exit_date            2652\n",
              "period                  0\n",
              "now_date                0\n",
              "dtype: int64"
            ]
          },
          "metadata": {
            "tags": []
          },
          "execution_count": 12
        }
      ]
    },
    {
      "cell_type": "markdown",
      "metadata": {
        "id": "XR3XFC0feiyn",
        "colab_type": "text"
      },
      "source": [
        "##文字列型の変数を処理できるように整形する"
      ]
    },
    {
      "cell_type": "code",
      "metadata": {
        "id": "IJRvEd5Yemnn",
        "colab_type": "code",
        "colab": {
          "base_uri": "https://localhost:8080/",
          "height": 195
        },
        "outputId": "edcf6e65-ee82-4268-d3c1-77bcbe40e5ae"
      },
      "source": [
        "target_col = [\"campaign_name\", \"class_name\", \"gender\", \"count_1\", \"routine_flg\", \"period\", \"is_deleted\"]\n",
        "predict_data = predict_data[target_col]\n",
        "predict_data.head()"
      ],
      "execution_count": 13,
      "outputs": [
        {
          "output_type": "execute_result",
          "data": {
            "text/html": [
              "<div>\n",
              "<style scoped>\n",
              "    .dataframe tbody tr th:only-of-type {\n",
              "        vertical-align: middle;\n",
              "    }\n",
              "\n",
              "    .dataframe tbody tr th {\n",
              "        vertical-align: top;\n",
              "    }\n",
              "\n",
              "    .dataframe thead th {\n",
              "        text-align: right;\n",
              "    }\n",
              "</style>\n",
              "<table border=\"1\" class=\"dataframe\">\n",
              "  <thead>\n",
              "    <tr style=\"text-align: right;\">\n",
              "      <th></th>\n",
              "      <th>campaign_name</th>\n",
              "      <th>class_name</th>\n",
              "      <th>gender</th>\n",
              "      <th>count_1</th>\n",
              "      <th>routine_flg</th>\n",
              "      <th>period</th>\n",
              "      <th>is_deleted</th>\n",
              "    </tr>\n",
              "  </thead>\n",
              "  <tbody>\n",
              "    <tr>\n",
              "      <th>0</th>\n",
              "      <td>通常</td>\n",
              "      <td>オールタイム</td>\n",
              "      <td>F</td>\n",
              "      <td>4.0</td>\n",
              "      <td>1.0</td>\n",
              "      <td>24</td>\n",
              "      <td>0.0</td>\n",
              "    </tr>\n",
              "    <tr>\n",
              "      <th>1</th>\n",
              "      <td>入会費半額</td>\n",
              "      <td>ナイト</td>\n",
              "      <td>F</td>\n",
              "      <td>6.0</td>\n",
              "      <td>1.0</td>\n",
              "      <td>9</td>\n",
              "      <td>0.0</td>\n",
              "    </tr>\n",
              "    <tr>\n",
              "      <th>2</th>\n",
              "      <td>通常</td>\n",
              "      <td>オールタイム</td>\n",
              "      <td>F</td>\n",
              "      <td>6.0</td>\n",
              "      <td>1.0</td>\n",
              "      <td>13</td>\n",
              "      <td>0.0</td>\n",
              "    </tr>\n",
              "    <tr>\n",
              "      <th>3</th>\n",
              "      <td>通常</td>\n",
              "      <td>デイタイム</td>\n",
              "      <td>F</td>\n",
              "      <td>4.0</td>\n",
              "      <td>1.0</td>\n",
              "      <td>21</td>\n",
              "      <td>0.0</td>\n",
              "    </tr>\n",
              "    <tr>\n",
              "      <th>4</th>\n",
              "      <td>通常</td>\n",
              "      <td>オールタイム</td>\n",
              "      <td>M</td>\n",
              "      <td>5.0</td>\n",
              "      <td>1.0</td>\n",
              "      <td>25</td>\n",
              "      <td>0.0</td>\n",
              "    </tr>\n",
              "  </tbody>\n",
              "</table>\n",
              "</div>"
            ],
            "text/plain": [
              "  campaign_name class_name gender  count_1  routine_flg  period  is_deleted\n",
              "0            通常     オールタイム      F      4.0          1.0      24         0.0\n",
              "1         入会費半額        ナイト      F      6.0          1.0       9         0.0\n",
              "2            通常     オールタイム      F      6.0          1.0      13         0.0\n",
              "3            通常      デイタイム      F      4.0          1.0      21         0.0\n",
              "4            通常     オールタイム      M      5.0          1.0      25         0.0"
            ]
          },
          "metadata": {
            "tags": []
          },
          "execution_count": 13
        }
      ]
    },
    {
      "cell_type": "markdown",
      "metadata": {
        "id": "7d-J1wjlqHiB",
        "colab_type": "text"
      },
      "source": [
        "カテゴリカル変数を用いてダミー変数を作成"
      ]
    },
    {
      "cell_type": "code",
      "metadata": {
        "id": "tJc2-1FKqKwf",
        "colab_type": "code",
        "colab": {
          "base_uri": "https://localhost:8080/",
          "height": 232
        },
        "outputId": "baacd6ba-d94c-48be-e0f7-054c7b49078f"
      },
      "source": [
        "predict_data = pd.get_dummies(predict_data)\n",
        "predict_data.head()"
      ],
      "execution_count": 14,
      "outputs": [
        {
          "output_type": "execute_result",
          "data": {
            "text/html": [
              "<div>\n",
              "<style scoped>\n",
              "    .dataframe tbody tr th:only-of-type {\n",
              "        vertical-align: middle;\n",
              "    }\n",
              "\n",
              "    .dataframe tbody tr th {\n",
              "        vertical-align: top;\n",
              "    }\n",
              "\n",
              "    .dataframe thead th {\n",
              "        text-align: right;\n",
              "    }\n",
              "</style>\n",
              "<table border=\"1\" class=\"dataframe\">\n",
              "  <thead>\n",
              "    <tr style=\"text-align: right;\">\n",
              "      <th></th>\n",
              "      <th>count_1</th>\n",
              "      <th>routine_flg</th>\n",
              "      <th>period</th>\n",
              "      <th>is_deleted</th>\n",
              "      <th>campaign_name_入会費半額</th>\n",
              "      <th>campaign_name_入会費無料</th>\n",
              "      <th>campaign_name_通常</th>\n",
              "      <th>class_name_オールタイム</th>\n",
              "      <th>class_name_デイタイム</th>\n",
              "      <th>class_name_ナイト</th>\n",
              "      <th>gender_F</th>\n",
              "      <th>gender_M</th>\n",
              "    </tr>\n",
              "  </thead>\n",
              "  <tbody>\n",
              "    <tr>\n",
              "      <th>0</th>\n",
              "      <td>4.0</td>\n",
              "      <td>1.0</td>\n",
              "      <td>24</td>\n",
              "      <td>0.0</td>\n",
              "      <td>0</td>\n",
              "      <td>0</td>\n",
              "      <td>1</td>\n",
              "      <td>1</td>\n",
              "      <td>0</td>\n",
              "      <td>0</td>\n",
              "      <td>1</td>\n",
              "      <td>0</td>\n",
              "    </tr>\n",
              "    <tr>\n",
              "      <th>1</th>\n",
              "      <td>6.0</td>\n",
              "      <td>1.0</td>\n",
              "      <td>9</td>\n",
              "      <td>0.0</td>\n",
              "      <td>1</td>\n",
              "      <td>0</td>\n",
              "      <td>0</td>\n",
              "      <td>0</td>\n",
              "      <td>0</td>\n",
              "      <td>1</td>\n",
              "      <td>1</td>\n",
              "      <td>0</td>\n",
              "    </tr>\n",
              "    <tr>\n",
              "      <th>2</th>\n",
              "      <td>6.0</td>\n",
              "      <td>1.0</td>\n",
              "      <td>13</td>\n",
              "      <td>0.0</td>\n",
              "      <td>0</td>\n",
              "      <td>0</td>\n",
              "      <td>1</td>\n",
              "      <td>1</td>\n",
              "      <td>0</td>\n",
              "      <td>0</td>\n",
              "      <td>1</td>\n",
              "      <td>0</td>\n",
              "    </tr>\n",
              "    <tr>\n",
              "      <th>3</th>\n",
              "      <td>4.0</td>\n",
              "      <td>1.0</td>\n",
              "      <td>21</td>\n",
              "      <td>0.0</td>\n",
              "      <td>0</td>\n",
              "      <td>0</td>\n",
              "      <td>1</td>\n",
              "      <td>0</td>\n",
              "      <td>1</td>\n",
              "      <td>0</td>\n",
              "      <td>1</td>\n",
              "      <td>0</td>\n",
              "    </tr>\n",
              "    <tr>\n",
              "      <th>4</th>\n",
              "      <td>5.0</td>\n",
              "      <td>1.0</td>\n",
              "      <td>25</td>\n",
              "      <td>0.0</td>\n",
              "      <td>0</td>\n",
              "      <td>0</td>\n",
              "      <td>1</td>\n",
              "      <td>1</td>\n",
              "      <td>0</td>\n",
              "      <td>0</td>\n",
              "      <td>0</td>\n",
              "      <td>1</td>\n",
              "    </tr>\n",
              "  </tbody>\n",
              "</table>\n",
              "</div>"
            ],
            "text/plain": [
              "   count_1  routine_flg  period  ...  class_name_ナイト  gender_F  gender_M\n",
              "0      4.0          1.0      24  ...               0         1         0\n",
              "1      6.0          1.0       9  ...               1         1         0\n",
              "2      6.0          1.0      13  ...               0         1         0\n",
              "3      4.0          1.0      21  ...               0         1         0\n",
              "4      5.0          1.0      25  ...               0         0         1\n",
              "\n",
              "[5 rows x 12 columns]"
            ]
          },
          "metadata": {
            "tags": []
          },
          "execution_count": 14
        }
      ]
    },
    {
      "cell_type": "markdown",
      "metadata": {
        "id": "bu3dHWOhqmA6",
        "colab_type": "text"
      },
      "source": [
        "get_dummiesによって、簡単にダミー変数が作られるが、多重共線性を避けるため、不要な変数は削除"
      ]
    },
    {
      "cell_type": "code",
      "metadata": {
        "id": "aQoqzGb8quE_",
        "colab_type": "code",
        "colab": {
          "base_uri": "https://localhost:8080/",
          "height": 212
        },
        "outputId": "628dfacb-4284-4f26-e511-a0a450610546"
      },
      "source": [
        "del predict_data[\"campaign_name_通常\"]\n",
        "del predict_data[\"class_name_ナイト\"]\n",
        "del predict_data[\"gender_M\"]\n",
        "predict_data.head()"
      ],
      "execution_count": 15,
      "outputs": [
        {
          "output_type": "execute_result",
          "data": {
            "text/html": [
              "<div>\n",
              "<style scoped>\n",
              "    .dataframe tbody tr th:only-of-type {\n",
              "        vertical-align: middle;\n",
              "    }\n",
              "\n",
              "    .dataframe tbody tr th {\n",
              "        vertical-align: top;\n",
              "    }\n",
              "\n",
              "    .dataframe thead th {\n",
              "        text-align: right;\n",
              "    }\n",
              "</style>\n",
              "<table border=\"1\" class=\"dataframe\">\n",
              "  <thead>\n",
              "    <tr style=\"text-align: right;\">\n",
              "      <th></th>\n",
              "      <th>count_1</th>\n",
              "      <th>routine_flg</th>\n",
              "      <th>period</th>\n",
              "      <th>is_deleted</th>\n",
              "      <th>campaign_name_入会費半額</th>\n",
              "      <th>campaign_name_入会費無料</th>\n",
              "      <th>class_name_オールタイム</th>\n",
              "      <th>class_name_デイタイム</th>\n",
              "      <th>gender_F</th>\n",
              "    </tr>\n",
              "  </thead>\n",
              "  <tbody>\n",
              "    <tr>\n",
              "      <th>0</th>\n",
              "      <td>4.0</td>\n",
              "      <td>1.0</td>\n",
              "      <td>24</td>\n",
              "      <td>0.0</td>\n",
              "      <td>0</td>\n",
              "      <td>0</td>\n",
              "      <td>1</td>\n",
              "      <td>0</td>\n",
              "      <td>1</td>\n",
              "    </tr>\n",
              "    <tr>\n",
              "      <th>1</th>\n",
              "      <td>6.0</td>\n",
              "      <td>1.0</td>\n",
              "      <td>9</td>\n",
              "      <td>0.0</td>\n",
              "      <td>1</td>\n",
              "      <td>0</td>\n",
              "      <td>0</td>\n",
              "      <td>0</td>\n",
              "      <td>1</td>\n",
              "    </tr>\n",
              "    <tr>\n",
              "      <th>2</th>\n",
              "      <td>6.0</td>\n",
              "      <td>1.0</td>\n",
              "      <td>13</td>\n",
              "      <td>0.0</td>\n",
              "      <td>0</td>\n",
              "      <td>0</td>\n",
              "      <td>1</td>\n",
              "      <td>0</td>\n",
              "      <td>1</td>\n",
              "    </tr>\n",
              "    <tr>\n",
              "      <th>3</th>\n",
              "      <td>4.0</td>\n",
              "      <td>1.0</td>\n",
              "      <td>21</td>\n",
              "      <td>0.0</td>\n",
              "      <td>0</td>\n",
              "      <td>0</td>\n",
              "      <td>0</td>\n",
              "      <td>1</td>\n",
              "      <td>1</td>\n",
              "    </tr>\n",
              "    <tr>\n",
              "      <th>4</th>\n",
              "      <td>5.0</td>\n",
              "      <td>1.0</td>\n",
              "      <td>25</td>\n",
              "      <td>0.0</td>\n",
              "      <td>0</td>\n",
              "      <td>0</td>\n",
              "      <td>1</td>\n",
              "      <td>0</td>\n",
              "      <td>0</td>\n",
              "    </tr>\n",
              "  </tbody>\n",
              "</table>\n",
              "</div>"
            ],
            "text/plain": [
              "   count_1  routine_flg  period  ...  class_name_オールタイム  class_name_デイタイム  gender_F\n",
              "0      4.0          1.0      24  ...                  1                 0         1\n",
              "1      6.0          1.0       9  ...                  0                 0         1\n",
              "2      6.0          1.0      13  ...                  1                 0         1\n",
              "3      4.0          1.0      21  ...                  0                 1         1\n",
              "4      5.0          1.0      25  ...                  1                 0         0\n",
              "\n",
              "[5 rows x 9 columns]"
            ]
          },
          "metadata": {
            "tags": []
          },
          "execution_count": 15
        }
      ]
    },
    {
      "cell_type": "markdown",
      "metadata": {
        "id": "7raGLNqyreMd",
        "colab_type": "text"
      },
      "source": [
        "##決定木を用いて退会予測モデルを作成"
      ]
    },
    {
      "cell_type": "code",
      "metadata": {
        "id": "QYanrdBoqFwM",
        "colab_type": "code",
        "colab": {
          "base_uri": "https://localhost:8080/",
          "height": 404
        },
        "outputId": "a64bf950-062c-43ba-a755-c3f66fc42519"
      },
      "source": [
        "from sklearn.tree import DecisionTreeClassifier\n",
        "import sklearn.model_selection\n",
        "\n",
        "exit = predict_data.loc[predict_data[\"is_deleted\"]==1]\n",
        "conti = predict_data.loc[predict_data[\"is_deleted\"]==0].sample(len(exit))\n",
        "\n",
        "X = pd.concat([exit, conti], ignore_index=True)\n",
        "y = X[\"is_deleted\"]\n",
        "del X[\"is_deleted\"]\n",
        "X_train, X_test, y_train, y_test = sklearn.model_selection.train_test_split(X,y)\n",
        "\n",
        "model = DecisionTreeClassifier(random_state=0)\n",
        "model.fit(X_train, y_train)\n",
        "y_test_pred = model.predict(X_test)\n",
        "print(y_test_pred)"
      ],
      "execution_count": 16,
      "outputs": [
        {
          "output_type": "stream",
          "text": [
            "[1. 0. 1. 0. 1. 1. 0. 0. 1. 0. 1. 1. 0. 1. 0. 1. 1. 0. 0. 1. 0. 0. 1. 0.\n",
            " 1. 0. 0. 1. 0. 1. 0. 0. 1. 0. 1. 1. 1. 1. 1. 0. 1. 0. 1. 0. 1. 0. 1. 0.\n",
            " 0. 0. 0. 0. 0. 1. 1. 1. 1. 0. 1. 0. 0. 0. 0. 0. 1. 1. 1. 0. 1. 1. 0. 0.\n",
            " 1. 0. 0. 1. 0. 1. 0. 1. 0. 1. 1. 0. 0. 1. 0. 1. 1. 1. 0. 1. 1. 1. 1. 0.\n",
            " 1. 1. 0. 1. 1. 1. 1. 0. 1. 0. 1. 0. 0. 0. 1. 1. 0. 1. 0. 0. 0. 0. 1. 1.\n",
            " 0. 0. 0. 1. 1. 1. 0. 1. 0. 0. 1. 0. 1. 0. 1. 1. 1. 1. 0. 0. 0. 0. 1. 0.\n",
            " 1. 1. 0. 1. 0. 1. 0. 0. 0. 1. 1. 1. 0. 1. 0. 0. 1. 1. 1. 0. 0. 0. 0. 1.\n",
            " 0. 0. 0. 0. 0. 1. 1. 0. 0. 1. 1. 0. 0. 0. 0. 0. 1. 1. 1. 0. 0. 1. 1. 1.\n",
            " 0. 0. 0. 0. 0. 0. 0. 1. 1. 1. 1. 0. 1. 0. 0. 0. 0. 0. 1. 1. 1. 1. 0. 0.\n",
            " 1. 0. 1. 1. 0. 0. 0. 1. 1. 1. 1. 0. 0. 1. 1. 1. 1. 1. 0. 1. 1. 1. 0. 0.\n",
            " 0. 0. 0. 1. 0. 1. 0. 0. 1. 1. 1. 1. 1. 0. 1. 0. 1. 0. 1. 0. 1. 1. 0. 1.\n",
            " 0. 0. 0. 1. 1. 1. 1. 1. 1. 0. 1. 1. 1. 0. 1. 1. 1. 0. 1. 1. 0. 0. 0. 0.\n",
            " 1. 1. 0. 1. 0. 1. 0. 1. 1. 0. 0. 1. 1. 1. 0. 0. 0. 1. 0. 1. 0. 0. 1. 0.\n",
            " 0. 1. 1. 1. 1. 1. 0. 1. 0. 1. 1. 1. 0. 0. 0. 0. 1. 0. 0. 1. 1. 1. 1. 0.\n",
            " 0. 0. 1. 0. 0. 0. 0. 1. 1. 1. 1. 1. 0. 0. 0. 1. 1. 1. 1. 0. 1. 0. 1. 1.\n",
            " 0. 1. 0. 1. 1. 1. 1. 0. 1. 1. 1. 1. 1. 0. 1. 1. 1. 1. 0. 0. 0. 1. 1. 0.\n",
            " 1. 1. 0. 0. 0. 1. 1. 1. 0. 1. 1. 1. 1. 0. 1. 0. 1. 0. 1. 1. 0. 0. 0. 1.\n",
            " 0. 1. 1. 0. 0. 0. 1. 1. 0. 0. 1. 1. 0. 1. 1. 1. 1. 0. 0. 1. 0. 0. 1. 0.\n",
            " 0. 0. 0. 0. 1. 1. 0. 0. 1. 1. 0. 1. 1. 1. 0. 1. 1. 0. 1. 0. 0. 0. 1. 0.\n",
            " 0. 1. 0. 1. 1. 0. 1. 1. 1. 0. 0. 0. 0. 0. 0. 0. 0. 1. 0. 0. 1. 0. 1. 1.\n",
            " 0. 0. 0. 0. 1. 1. 0. 0. 1. 1. 1. 0. 1. 0. 1. 0. 1. 0. 0. 0. 1. 1. 0. 1.\n",
            " 1. 0. 1. 1. 0. 0. 0. 1. 0. 0. 1. 0. 1. 1. 0. 0. 0. 1. 1. 1. 0. 0.]\n"
          ],
          "name": "stdout"
        }
      ]
    },
    {
      "cell_type": "code",
      "metadata": {
        "id": "zCu3vERIs-JC",
        "colab_type": "code",
        "colab": {
          "base_uri": "https://localhost:8080/",
          "height": 195
        },
        "outputId": "91ee7de7-8b25-4ef6-bcdd-cb4bc913ae66"
      },
      "source": [
        "results_test = pd.DataFrame({\"y_test\":y_test, \"y_pred\":y_test_pred})\n",
        "results_test.head()"
      ],
      "execution_count": 17,
      "outputs": [
        {
          "output_type": "execute_result",
          "data": {
            "text/html": [
              "<div>\n",
              "<style scoped>\n",
              "    .dataframe tbody tr th:only-of-type {\n",
              "        vertical-align: middle;\n",
              "    }\n",
              "\n",
              "    .dataframe tbody tr th {\n",
              "        vertical-align: top;\n",
              "    }\n",
              "\n",
              "    .dataframe thead th {\n",
              "        text-align: right;\n",
              "    }\n",
              "</style>\n",
              "<table border=\"1\" class=\"dataframe\">\n",
              "  <thead>\n",
              "    <tr style=\"text-align: right;\">\n",
              "      <th></th>\n",
              "      <th>y_test</th>\n",
              "      <th>y_pred</th>\n",
              "    </tr>\n",
              "  </thead>\n",
              "  <tbody>\n",
              "    <tr>\n",
              "      <th>617</th>\n",
              "      <td>1.0</td>\n",
              "      <td>1.0</td>\n",
              "    </tr>\n",
              "    <tr>\n",
              "      <th>1259</th>\n",
              "      <td>0.0</td>\n",
              "      <td>0.0</td>\n",
              "    </tr>\n",
              "    <tr>\n",
              "      <th>1050</th>\n",
              "      <td>1.0</td>\n",
              "      <td>1.0</td>\n",
              "    </tr>\n",
              "    <tr>\n",
              "      <th>707</th>\n",
              "      <td>1.0</td>\n",
              "      <td>0.0</td>\n",
              "    </tr>\n",
              "    <tr>\n",
              "      <th>423</th>\n",
              "      <td>1.0</td>\n",
              "      <td>1.0</td>\n",
              "    </tr>\n",
              "  </tbody>\n",
              "</table>\n",
              "</div>"
            ],
            "text/plain": [
              "      y_test  y_pred\n",
              "617      1.0     1.0\n",
              "1259     0.0     0.0\n",
              "1050     1.0     1.0\n",
              "707      1.0     0.0\n",
              "423      1.0     1.0"
            ]
          },
          "metadata": {
            "tags": []
          },
          "execution_count": 17
        }
      ]
    },
    {
      "cell_type": "markdown",
      "metadata": {
        "id": "6g5PZB1gtQ6n",
        "colab_type": "text"
      },
      "source": [
        "##予測モデルの評価を行い、モデルのチューニング"
      ]
    },
    {
      "cell_type": "code",
      "metadata": {
        "id": "dnaeEx33tUeR",
        "colab_type": "code",
        "colab": {
          "base_uri": "https://localhost:8080/",
          "height": 34
        },
        "outputId": "2a5fdba1-a49f-48c8-956a-3fff69a0960b"
      },
      "source": [
        "correct = len(results_test.loc[results_test[\"y_test\"]==results_test[\"y_pred\"]])\n",
        "data_count = len(results_test)\n",
        "score_test = correct / data_count\n",
        "print(score_test)"
      ],
      "execution_count": 18,
      "outputs": [
        {
          "output_type": "stream",
          "text": [
            "0.8878326996197718\n"
          ],
          "name": "stdout"
        }
      ]
    },
    {
      "cell_type": "code",
      "metadata": {
        "id": "xb1XBM4Nt-z0",
        "colab_type": "code",
        "colab": {
          "base_uri": "https://localhost:8080/",
          "height": 52
        },
        "outputId": "91290346-a516-4e61-8e4a-c64d734e04c3"
      },
      "source": [
        "print(model.score(X_test, y_test))\n",
        "print(model.score(X_train, y_train))"
      ],
      "execution_count": 19,
      "outputs": [
        {
          "output_type": "stream",
          "text": [
            "0.8878326996197718\n",
            "0.9803548795944234\n"
          ],
          "name": "stdout"
        }
      ]
    },
    {
      "cell_type": "markdown",
      "metadata": {
        "id": "aYHATPMfuUrg",
        "colab_type": "text"
      },
      "source": [
        "過学習を起こしてしまっているので、モデルをチューニング\n",
        "決定木の木構造の深さを浅くする"
      ]
    },
    {
      "cell_type": "code",
      "metadata": {
        "id": "NEAvlAVPuc-D",
        "colab_type": "code",
        "colab": {
          "base_uri": "https://localhost:8080/",
          "height": 52
        },
        "outputId": "53592428-4207-42c5-bb5f-13077919587e"
      },
      "source": [
        "X = pd.concat([exit, conti], ignore_index=True)\n",
        "y = X[\"is_deleted\"]\n",
        "del X[\"is_deleted\"]\n",
        "X_train, X_test, y_train, y_test = sklearn.model_selection.train_test_split(X,y)\n",
        "\n",
        "model = DecisionTreeClassifier(random_state=0, max_depth=5)\n",
        "model.fit(X_train, y_train)\n",
        "print(model.score(X_test, y_test))\n",
        "print(model.score(X_train, y_train))"
      ],
      "execution_count": 20,
      "outputs": [
        {
          "output_type": "stream",
          "text": [
            "0.9163498098859315\n",
            "0.926489226869455\n"
          ],
          "name": "stdout"
        }
      ]
    },
    {
      "cell_type": "markdown",
      "metadata": {
        "id": "KhVhLr-TvZPK",
        "colab_type": "text"
      },
      "source": [
        "##モデルに寄与している変数を確認"
      ]
    },
    {
      "cell_type": "code",
      "metadata": {
        "id": "eCfS-oNNvcM6",
        "colab_type": "code",
        "colab": {
          "base_uri": "https://localhost:8080/",
          "height": 284
        },
        "outputId": "362a97e4-e110-4ef0-9454-41d2e52b5c44"
      },
      "source": [
        "importance = pd.DataFrame({\"feature_names\": X.columns, \"coefficient\": model.feature_importances_})\n",
        "importance"
      ],
      "execution_count": 22,
      "outputs": [
        {
          "output_type": "execute_result",
          "data": {
            "text/html": [
              "<div>\n",
              "<style scoped>\n",
              "    .dataframe tbody tr th:only-of-type {\n",
              "        vertical-align: middle;\n",
              "    }\n",
              "\n",
              "    .dataframe tbody tr th {\n",
              "        vertical-align: top;\n",
              "    }\n",
              "\n",
              "    .dataframe thead th {\n",
              "        text-align: right;\n",
              "    }\n",
              "</style>\n",
              "<table border=\"1\" class=\"dataframe\">\n",
              "  <thead>\n",
              "    <tr style=\"text-align: right;\">\n",
              "      <th></th>\n",
              "      <th>feature_names</th>\n",
              "      <th>coefficient</th>\n",
              "    </tr>\n",
              "  </thead>\n",
              "  <tbody>\n",
              "    <tr>\n",
              "      <th>0</th>\n",
              "      <td>count_1</td>\n",
              "      <td>0.339574</td>\n",
              "    </tr>\n",
              "    <tr>\n",
              "      <th>1</th>\n",
              "      <td>routine_flg</td>\n",
              "      <td>0.133578</td>\n",
              "    </tr>\n",
              "    <tr>\n",
              "      <th>2</th>\n",
              "      <td>period</td>\n",
              "      <td>0.525247</td>\n",
              "    </tr>\n",
              "    <tr>\n",
              "      <th>3</th>\n",
              "      <td>campaign_name_入会費半額</td>\n",
              "      <td>0.000000</td>\n",
              "    </tr>\n",
              "    <tr>\n",
              "      <th>4</th>\n",
              "      <td>campaign_name_入会費無料</td>\n",
              "      <td>0.000000</td>\n",
              "    </tr>\n",
              "    <tr>\n",
              "      <th>5</th>\n",
              "      <td>class_name_オールタイム</td>\n",
              "      <td>0.000426</td>\n",
              "    </tr>\n",
              "    <tr>\n",
              "      <th>6</th>\n",
              "      <td>class_name_デイタイム</td>\n",
              "      <td>0.000000</td>\n",
              "    </tr>\n",
              "    <tr>\n",
              "      <th>7</th>\n",
              "      <td>gender_F</td>\n",
              "      <td>0.001174</td>\n",
              "    </tr>\n",
              "  </tbody>\n",
              "</table>\n",
              "</div>"
            ],
            "text/plain": [
              "         feature_names  coefficient\n",
              "0              count_1     0.339574\n",
              "1          routine_flg     0.133578\n",
              "2               period     0.525247\n",
              "3  campaign_name_入会費半額     0.000000\n",
              "4  campaign_name_入会費無料     0.000000\n",
              "5    class_name_オールタイム     0.000426\n",
              "6     class_name_デイタイム     0.000000\n",
              "7             gender_F     0.001174"
            ]
          },
          "metadata": {
            "tags": []
          },
          "execution_count": 22
        }
      ]
    },
    {
      "cell_type": "markdown",
      "metadata": {
        "id": "ci_E5AY1-kFC",
        "colab_type": "text"
      },
      "source": [
        "##顧客の退会を予測する"
      ]
    },
    {
      "cell_type": "code",
      "metadata": {
        "id": "nIv8NYff-nAX",
        "colab_type": "code",
        "colab": {}
      },
      "source": [
        "count_1 = 5\n",
        "routine_flg =1\n",
        "period = 20\n",
        "campaign_name =\"入会費半額\"\n",
        "class_name = \"オールタイム\"\n",
        "gender = \"F\""
      ],
      "execution_count": 0,
      "outputs": []
    },
    {
      "cell_type": "code",
      "metadata": {
        "id": "9XKWGaLy-6z0",
        "colab_type": "code",
        "colab": {}
      },
      "source": [
        "if campaign_name == \"入会費半額\":\n",
        "  campaign_name_list = [1, 0]\n",
        "elif campaign_name == \"入会費無料\":\n",
        "  campaign_name_list = [0, 1]\n",
        "elif campaign_name == \"通常\":\n",
        "  campaign_name_list = [0, 0]\n",
        "if class_name == \"オールタイム\":\n",
        "  class_name_list = [1, 0]\n",
        "elif class_name == \"デイタイム\":\n",
        "  class_name_list = [0, 1]\n",
        "elif class_name == \"ナイト\":\n",
        "  class_name_list = [0, 0]\n",
        "if gender == \"F\":\n",
        "  gender_list = [1]\n",
        "elif gender == \"M\":\n",
        "  gender_list =[0]\n",
        "input_data = [count_1, routine_flg, period]\n",
        "input_data.extend(campaign_name_list)\n",
        "input_data.extend(class_name_list)\n",
        "input_data.extend(gender_list)"
      ],
      "execution_count": 0,
      "outputs": []
    },
    {
      "cell_type": "code",
      "metadata": {
        "id": "Zux9EFTABS6y",
        "colab_type": "code",
        "colab": {
          "base_uri": "https://localhost:8080/",
          "height": 34
        },
        "outputId": "fa3bf2c8-ef51-47d7-84d2-22895b3335e8"
      },
      "source": [
        "input_data"
      ],
      "execution_count": 38,
      "outputs": [
        {
          "output_type": "execute_result",
          "data": {
            "text/plain": [
              "[5, 1, 20, 1, 0, 1, 0, 1]"
            ]
          },
          "metadata": {
            "tags": []
          },
          "execution_count": 38
        }
      ]
    },
    {
      "cell_type": "code",
      "metadata": {
        "id": "Bv6uRmGBAr-B",
        "colab_type": "code",
        "colab": {
          "base_uri": "https://localhost:8080/",
          "height": 52
        },
        "outputId": "1d7b50df-bd4e-439e-9964-97b67e33b787"
      },
      "source": [
        "print(model.predict([input_data]))\n",
        "print(model.predict_proba([input_data]))"
      ],
      "execution_count": 39,
      "outputs": [
        {
          "output_type": "stream",
          "text": [
            "[0.]\n",
            "[[0.87878788 0.12121212]]\n"
          ],
          "name": "stdout"
        }
      ]
    }
  ]
}